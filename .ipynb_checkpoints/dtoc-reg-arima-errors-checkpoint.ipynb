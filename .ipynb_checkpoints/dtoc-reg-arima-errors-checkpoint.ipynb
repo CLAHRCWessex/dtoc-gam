{
 "cells": [
  {
   "cell_type": "markdown",
   "metadata": {},
   "source": [
    "# ARIMA modeling of dtocs and ED breaches time series"
   ]
  },
  {
   "cell_type": "markdown",
   "metadata": {},
   "source": [
    "Notes.  The analysis with is notebook fits a linear regression with ARIMA errors.  \n",
    "See Rob Hyndman's blog for description of workings https://robjhyndman.com/hyndsight/arimax/"
   ]
  },
  {
   "cell_type": "code",
   "execution_count": 371,
   "metadata": {},
   "outputs": [],
   "source": [
    "library(TSA)\n",
    "library(car)\n",
    "library(data.table)\n",
    "library(ggplot2)\n",
    "library(LSTS)\n",
    "library(tseries)\n",
    "library(lmtest)"
   ]
  },
  {
   "cell_type": "code",
   "execution_count": 232,
   "metadata": {},
   "outputs": [
    {
     "name": "stderr",
     "output_type": "stream",
     "text": [
      "Installing package into '\\\\filestore.soton.ac.uk/users/tm3y13/mydocuments/R/win-library/3.4'\n",
      "(as 'lib' is unspecified)\n"
     ]
    },
    {
     "name": "stdout",
     "output_type": "stream",
     "text": [
      "package 'LSTS' successfully unpacked and MD5 sums checked\n",
      "\n",
      "The downloaded binary packages are in\n",
      "\tC:\\Users\\tm3y13\\AppData\\Local\\Temp\\RtmpUZuDCd\\downloaded_packages\n"
     ]
    }
   ],
   "source": [
    "#install.packages('LSTS', repos='http://cran.us.r-project.org')"
   ]
  },
  {
   "cell_type": "code",
   "execution_count": 7,
   "metadata": {},
   "outputs": [
    {
     "data": {
      "text/html": [
       "<table>\n",
       "<thead><tr><th scope=col>year</th><th scope=col>month</th><th scope=col>total_atten</th><th scope=col>total_atten_t1</th><th scope=col>total_atten_.4hr</th><th scope=col>X95._targ</th><th scope=col>total_admissions</th><th scope=col>dtoc_a</th><th scope=col>dtoc_na</th><th scope=col>dtoc_total</th><th scope=col>mth</th><th scope=col>time</th><th scope=col>yr</th></tr></thead>\n",
       "<tbody>\n",
       "\t<tr><td>2010-11  </td><td>August   </td><td>1719197  </td><td>1138652  </td><td>33184    </td><td>0.9806980</td><td>425702.0 </td><td>2559     </td><td>2381     </td><td>4940     </td><td> 8       </td><td>1        </td><td>2010     </td></tr>\n",
       "\t<tr><td>2010-11  </td><td>September</td><td>1715117  </td><td>1150728  </td><td>41151    </td><td>0.9760069</td><td>424900.0 </td><td>2647     </td><td>2357     </td><td>5004     </td><td> 9       </td><td>2        </td><td>2010     </td></tr>\n",
       "\t<tr><td>2010-11  </td><td>October  </td><td>1753934  </td><td>1163143  </td><td>47414    </td><td>0.9729671</td><td>436215.0 </td><td>2513     </td><td>2075     </td><td>4588     </td><td>10       </td><td>3        </td><td>2010     </td></tr>\n",
       "\t<tr><td>2010-11  </td><td>November </td><td>1604591  </td><td>1111295  </td><td>46436    </td><td>0.9710603</td><td>429099.0 </td><td>2352     </td><td>2057     </td><td>4409     </td><td>11       </td><td>4        </td><td>2010     </td></tr>\n",
       "\t<tr><td>2010-11  </td><td>December </td><td>1647824  </td><td>1159204  </td><td>89917    </td><td>0.9454327</td><td>452728.7 </td><td>1995     </td><td>1866     </td><td>3861     </td><td>12       </td><td>5        </td><td>2010     </td></tr>\n",
       "\t<tr><td>2010-11  </td><td>January  </td><td>1654907  </td><td>1133881  </td><td>72889    </td><td>0.9559557</td><td>442003.7 </td><td>2563     </td><td>2034     </td><td>4597     </td><td> 1       </td><td>6        </td><td>2010     </td></tr>\n",
       "</tbody>\n",
       "</table>\n"
      ],
      "text/latex": [
       "\\begin{tabular}{r|lllllllllllll}\n",
       " year & month & total\\_atten & total\\_atten\\_t1 & total\\_atten\\_.4hr & X95.\\_targ & total\\_admissions & dtoc\\_a & dtoc\\_na & dtoc\\_total & mth & time & yr\\\\\n",
       "\\hline\n",
       "\t 2010-11   & August    & 1719197   & 1138652   & 33184     & 0.9806980 & 425702.0  & 2559      & 2381      & 4940      &  8        & 1         & 2010     \\\\\n",
       "\t 2010-11   & September & 1715117   & 1150728   & 41151     & 0.9760069 & 424900.0  & 2647      & 2357      & 5004      &  9        & 2         & 2010     \\\\\n",
       "\t 2010-11   & October   & 1753934   & 1163143   & 47414     & 0.9729671 & 436215.0  & 2513      & 2075      & 4588      & 10        & 3         & 2010     \\\\\n",
       "\t 2010-11   & November  & 1604591   & 1111295   & 46436     & 0.9710603 & 429099.0  & 2352      & 2057      & 4409      & 11        & 4         & 2010     \\\\\n",
       "\t 2010-11   & December  & 1647824   & 1159204   & 89917     & 0.9454327 & 452728.7  & 1995      & 1866      & 3861      & 12        & 5         & 2010     \\\\\n",
       "\t 2010-11   & January   & 1654907   & 1133881   & 72889     & 0.9559557 & 442003.7  & 2563      & 2034      & 4597      &  1        & 6         & 2010     \\\\\n",
       "\\end{tabular}\n"
      ],
      "text/markdown": [
       "\n",
       "year | month | total_atten | total_atten_t1 | total_atten_.4hr | X95._targ | total_admissions | dtoc_a | dtoc_na | dtoc_total | mth | time | yr | \n",
       "|---|---|---|---|---|---|\n",
       "| 2010-11   | August    | 1719197   | 1138652   | 33184     | 0.9806980 | 425702.0  | 2559      | 2381      | 4940      |  8        | 1         | 2010      | \n",
       "| 2010-11   | September | 1715117   | 1150728   | 41151     | 0.9760069 | 424900.0  | 2647      | 2357      | 5004      |  9        | 2         | 2010      | \n",
       "| 2010-11   | October   | 1753934   | 1163143   | 47414     | 0.9729671 | 436215.0  | 2513      | 2075      | 4588      | 10        | 3         | 2010      | \n",
       "| 2010-11   | November  | 1604591   | 1111295   | 46436     | 0.9710603 | 429099.0  | 2352      | 2057      | 4409      | 11        | 4         | 2010      | \n",
       "| 2010-11   | December  | 1647824   | 1159204   | 89917     | 0.9454327 | 452728.7  | 1995      | 1866      | 3861      | 12        | 5         | 2010      | \n",
       "| 2010-11   | January   | 1654907   | 1133881   | 72889     | 0.9559557 | 442003.7  | 2563      | 2034      | 4597      |  1        | 6         | 2010      | \n",
       "\n",
       "\n"
      ],
      "text/plain": [
       "  year    month     total_atten total_atten_t1 total_atten_.4hr X95._targ\n",
       "1 2010-11 August    1719197     1138652        33184            0.9806980\n",
       "2 2010-11 September 1715117     1150728        41151            0.9760069\n",
       "3 2010-11 October   1753934     1163143        47414            0.9729671\n",
       "4 2010-11 November  1604591     1111295        46436            0.9710603\n",
       "5 2010-11 December  1647824     1159204        89917            0.9454327\n",
       "6 2010-11 January   1654907     1133881        72889            0.9559557\n",
       "  total_admissions dtoc_a dtoc_na dtoc_total mth time yr  \n",
       "1 425702.0         2559   2381    4940        8  1    2010\n",
       "2 424900.0         2647   2357    5004        9  2    2010\n",
       "3 436215.0         2513   2075    4588       10  3    2010\n",
       "4 429099.0         2352   2057    4409       11  4    2010\n",
       "5 452728.7         1995   1866    3861       12  5    2010\n",
       "6 442003.7         2563   2034    4597        1  6    2010"
      ]
     },
     "metadata": {},
     "output_type": "display_data"
    }
   ],
   "source": [
    "dtoc = read.csv(\"input/dtoc.csv\")\n",
    "dtoc$yr = as.numeric(substr(dtoc$year, 1, 4))\n"
   ]
  },
  {
   "cell_type": "code",
   "execution_count": 9,
   "metadata": {},
   "outputs": [],
   "source": [
    "dtoc['ln_breaches'] = log(dtoc['total_atten_.4hr'])"
   ]
  },
  {
   "cell_type": "code",
   "execution_count": 10,
   "metadata": {},
   "outputs": [
    {
     "data": {
      "text/html": [
       "<table>\n",
       "<thead><tr><th scope=col>year</th><th scope=col>month</th><th scope=col>total_atten</th><th scope=col>total_atten_t1</th><th scope=col>total_atten_.4hr</th><th scope=col>X95._targ</th><th scope=col>total_admissions</th><th scope=col>dtoc_a</th><th scope=col>dtoc_na</th><th scope=col>dtoc_total</th><th scope=col>mth</th><th scope=col>time</th><th scope=col>yr</th><th scope=col>ln_breaches</th></tr></thead>\n",
       "<tbody>\n",
       "\t<tr><td>2010-11  </td><td>August   </td><td>1719197  </td><td>1138652  </td><td>33184    </td><td>0.9806980</td><td>425702.0 </td><td>2559     </td><td>2381     </td><td>4940     </td><td> 8       </td><td>1        </td><td>2010     </td><td>10.40982 </td></tr>\n",
       "\t<tr><td>2010-11  </td><td>September</td><td>1715117  </td><td>1150728  </td><td>41151    </td><td>0.9760069</td><td>424900.0 </td><td>2647     </td><td>2357     </td><td>5004     </td><td> 9       </td><td>2        </td><td>2010     </td><td>10.62500 </td></tr>\n",
       "\t<tr><td>2010-11  </td><td>October  </td><td>1753934  </td><td>1163143  </td><td>47414    </td><td>0.9729671</td><td>436215.0 </td><td>2513     </td><td>2075     </td><td>4588     </td><td>10       </td><td>3        </td><td>2010     </td><td>10.76667 </td></tr>\n",
       "\t<tr><td>2010-11  </td><td>November </td><td>1604591  </td><td>1111295  </td><td>46436    </td><td>0.9710603</td><td>429099.0 </td><td>2352     </td><td>2057     </td><td>4409     </td><td>11       </td><td>4        </td><td>2010     </td><td>10.74583 </td></tr>\n",
       "\t<tr><td>2010-11  </td><td>December </td><td>1647824  </td><td>1159204  </td><td>89917    </td><td>0.9454327</td><td>452728.7 </td><td>1995     </td><td>1866     </td><td>3861     </td><td>12       </td><td>5        </td><td>2010     </td><td>11.40664 </td></tr>\n",
       "\t<tr><td>2010-11  </td><td>January  </td><td>1654907  </td><td>1133881  </td><td>72889    </td><td>0.9559557</td><td>442003.7 </td><td>2563     </td><td>2034     </td><td>4597     </td><td> 1       </td><td>6        </td><td>2010     </td><td>11.19669 </td></tr>\n",
       "</tbody>\n",
       "</table>\n"
      ],
      "text/latex": [
       "\\begin{tabular}{r|llllllllllllll}\n",
       " year & month & total\\_atten & total\\_atten\\_t1 & total\\_atten\\_.4hr & X95.\\_targ & total\\_admissions & dtoc\\_a & dtoc\\_na & dtoc\\_total & mth & time & yr & ln\\_breaches\\\\\n",
       "\\hline\n",
       "\t 2010-11   & August    & 1719197   & 1138652   & 33184     & 0.9806980 & 425702.0  & 2559      & 2381      & 4940      &  8        & 1         & 2010      & 10.40982 \\\\\n",
       "\t 2010-11   & September & 1715117   & 1150728   & 41151     & 0.9760069 & 424900.0  & 2647      & 2357      & 5004      &  9        & 2         & 2010      & 10.62500 \\\\\n",
       "\t 2010-11   & October   & 1753934   & 1163143   & 47414     & 0.9729671 & 436215.0  & 2513      & 2075      & 4588      & 10        & 3         & 2010      & 10.76667 \\\\\n",
       "\t 2010-11   & November  & 1604591   & 1111295   & 46436     & 0.9710603 & 429099.0  & 2352      & 2057      & 4409      & 11        & 4         & 2010      & 10.74583 \\\\\n",
       "\t 2010-11   & December  & 1647824   & 1159204   & 89917     & 0.9454327 & 452728.7  & 1995      & 1866      & 3861      & 12        & 5         & 2010      & 11.40664 \\\\\n",
       "\t 2010-11   & January   & 1654907   & 1133881   & 72889     & 0.9559557 & 442003.7  & 2563      & 2034      & 4597      &  1        & 6         & 2010      & 11.19669 \\\\\n",
       "\\end{tabular}\n"
      ],
      "text/markdown": [
       "\n",
       "year | month | total_atten | total_atten_t1 | total_atten_.4hr | X95._targ | total_admissions | dtoc_a | dtoc_na | dtoc_total | mth | time | yr | ln_breaches | \n",
       "|---|---|---|---|---|---|\n",
       "| 2010-11   | August    | 1719197   | 1138652   | 33184     | 0.9806980 | 425702.0  | 2559      | 2381      | 4940      |  8        | 1         | 2010      | 10.40982  | \n",
       "| 2010-11   | September | 1715117   | 1150728   | 41151     | 0.9760069 | 424900.0  | 2647      | 2357      | 5004      |  9        | 2         | 2010      | 10.62500  | \n",
       "| 2010-11   | October   | 1753934   | 1163143   | 47414     | 0.9729671 | 436215.0  | 2513      | 2075      | 4588      | 10        | 3         | 2010      | 10.76667  | \n",
       "| 2010-11   | November  | 1604591   | 1111295   | 46436     | 0.9710603 | 429099.0  | 2352      | 2057      | 4409      | 11        | 4         | 2010      | 10.74583  | \n",
       "| 2010-11   | December  | 1647824   | 1159204   | 89917     | 0.9454327 | 452728.7  | 1995      | 1866      | 3861      | 12        | 5         | 2010      | 11.40664  | \n",
       "| 2010-11   | January   | 1654907   | 1133881   | 72889     | 0.9559557 | 442003.7  | 2563      | 2034      | 4597      |  1        | 6         | 2010      | 11.19669  | \n",
       "\n",
       "\n"
      ],
      "text/plain": [
       "  year    month     total_atten total_atten_t1 total_atten_.4hr X95._targ\n",
       "1 2010-11 August    1719197     1138652        33184            0.9806980\n",
       "2 2010-11 September 1715117     1150728        41151            0.9760069\n",
       "3 2010-11 October   1753934     1163143        47414            0.9729671\n",
       "4 2010-11 November  1604591     1111295        46436            0.9710603\n",
       "5 2010-11 December  1647824     1159204        89917            0.9454327\n",
       "6 2010-11 January   1654907     1133881        72889            0.9559557\n",
       "  total_admissions dtoc_a dtoc_na dtoc_total mth time yr   ln_breaches\n",
       "1 425702.0         2559   2381    4940        8  1    2010 10.40982   \n",
       "2 424900.0         2647   2357    5004        9  2    2010 10.62500   \n",
       "3 436215.0         2513   2075    4588       10  3    2010 10.76667   \n",
       "4 429099.0         2352   2057    4409       11  4    2010 10.74583   \n",
       "5 452728.7         1995   1866    3861       12  5    2010 11.40664   \n",
       "6 442003.7         2563   2034    4597        1  6    2010 11.19669   "
      ]
     },
     "metadata": {},
     "output_type": "display_data"
    }
   ],
   "source": [
    "head(dtoc)"
   ]
  },
  {
   "cell_type": "markdown",
   "metadata": {},
   "source": [
    "## Initial time series plots"
   ]
  },
  {
   "cell_type": "markdown",
   "metadata": {},
   "source": [
    "Breaches and DToCs: Plots before and after taking natural log"
   ]
  },
  {
   "cell_type": "code",
   "execution_count": 13,
   "metadata": {},
   "outputs": [
    {
     "data": {
      "image/png": "[encoded data removed]",
      "text/plain": [
       "plot without title"
      ]
     },
     "metadata": {},
     "output_type": "display_data"
    }
   ],
   "source": [
    "par(mfrow=c(2,2))\n",
    "\n",
    "plot.ts(ts(dtoc$total_atten_.4hr),xy.lines=F,xy.labels=F) #  (increasing variance)\n",
    "plot.ts(ts(dtoc$dtoc_total),xy.lines=F,xy.labels=F)\n",
    "\n",
    "plot.ts(ts(dtoc$ln_breaches),xy.lines=F,xy.labels=F) #  (increasing variance)\n",
    "plot.ts(ts(log(dtoc$dtoc_total)),xy.lines=F,xy.labels=F)"
   ]
  },
  {
   "cell_type": "markdown",
   "metadata": {},
   "source": [
    "Stationarity - take first difference then plot and apply dickey fuller"
   ]
  },
  {
   "cell_type": "code",
   "execution_count": 109,
   "metadata": {},
   "outputs": [
    {
     "data": {
      "image/png": "[encoded data removed]",
      "text/plain": [
       "plot without title"
      ]
     },
     "metadata": {},
     "output_type": "display_data"
    }
   ],
   "source": [
    "par(mfrow=c(2,1))\n",
    "\n",
    "plot.ts(ts(diff(log(dtoc$total_atten_.4hr))),xy.lines=F,xy.labels=F,\n",
    "       ylab=\"1st diff of breaches\") #  (increasing variance)\n",
    "plot.ts(ts(diff(log(dtoc$dtoc_total))),xy.lines=F,xy.labels=F,\n",
    "       ylab=\"1st diff of dtocs\")\n"
   ]
  },
  {
   "cell_type": "markdown",
   "metadata": {},
   "source": [
    "Both series 'appear' stationary, but appear to have seasonal patterns.  Check ACF and PACF"
   ]
  },
  {
   "cell_type": "code",
   "execution_count": 113,
   "metadata": {},
   "outputs": [
    {
     "data": {
      "image/png": "[encoded data removed]",
      "text/plain": [
       "Plot with title \"Deseasonalised log(breaches)\""
      ]
     },
     "metadata": {},
     "output_type": "display_data"
    }
   ],
   "source": [
    "par(mfrow=c(2,2))\n",
    "acf(diff(log(dtoc$dtoc_total)), lag.max = 48, main = \"ACF log(DToC Total)\")\n",
    "acf(diff(log(dtoc$total_atten_.4hr)), lag.max = 48, main = \"ACF log(breaches)\")\n",
    "\n",
    "acf(diff(diff(log(dtoc$dtoc_total), 12)), lag.max = 48, main = \"Deseasonalised log(DToC Total)\")\n",
    "acf(diff(diff(log(dtoc$total_atten_.4hr),12)), lag.max = 48, main = \"Deseasonalised log(breaches)\")"
   ]
  },
  {
   "cell_type": "markdown",
   "metadata": {},
   "source": [
    "Strong seasonal spikes at multiples of lag 12.  This look better after 1st seasonal diff. Conclusion.  Take seasonal difference"
   ]
  },
  {
   "cell_type": "markdown",
   "metadata": {},
   "source": [
    "## Initital ARIMA modelling.  Breaches"
   ]
  },
  {
   "cell_type": "markdown",
   "metadata": {},
   "source": [
    "breaches\n",
    "tentative models: \n",
    "\n",
    "1. arima(1,1,0).(0,1,0)\n",
    "2. arima(0,1,2).(0,1,0)\n",
    "3. arima(1,1,1).(1,1,0)"
   ]
  },
  {
   "cell_type": "code",
   "execution_count": 238,
   "metadata": {
    "collapsed": true
   },
   "outputs": [],
   "source": [
    "plot_diag <- function(model){\n",
    "    par(mfrow=c(2,1))\n",
    "    acf(model$residuals, lag.max=48)\n",
    "    pacf(model$residuals, lag.max=48)\n",
    "    #library(FitAR)\n",
    "    Box.Ljung.Test(model$residuals, lag = 24)\n",
    "    #boxresult=LjungBoxTest(dtoc.m1$residuals,k=2,StartLag=1)\n",
    "    #plot(boxresult[,3],main= \"Ljung-Box Q Test\", ylab= \"P-values\", xlab= \"Lag\")\n",
    "    qqnorm(model$residuals)\n",
    "    qqline(model$residuals)\n",
    "    }"
   ]
  },
  {
   "cell_type": "markdown",
   "metadata": {},
   "source": [
    "Simple and quick prewhitening"
   ]
  },
  {
   "cell_type": "code",
   "execution_count": 372,
   "metadata": {},
   "outputs": [],
   "source": [
    "data.diff = ts.intersect(ts(diff(diff(log(dtoc$total_atten_.4hr), 12))),\n",
    "                             ts(diff(diff(log(dtoc$dtoc_total), 12))))"
   ]
  },
  {
   "cell_type": "code",
   "execution_count": 373,
   "metadata": {},
   "outputs": [
    {
     "data": {
      "image/png": "[encoded data removed]",
      "text/plain": [
       "Plot with title \"x & y\""
      ]
     },
     "metadata": {},
     "output_type": "display_data"
    }
   ],
   "source": [
    "prewhiten(as.vector(data.diff[,1]), as.vector(data.diff[,2]),\n",
    "         ylab='CCF')"
   ]
  },
  {
   "cell_type": "code",
   "execution_count": 374,
   "metadata": {},
   "outputs": [
    {
     "data": {
      "text/plain": [
       "\n",
       "Call:\n",
       "lm(formula = breaches ~ dtocs, data = data.reg)\n",
       "\n",
       "Residuals:\n",
       "     Min       1Q   Median       3Q      Max \n",
       "-1.19443 -0.12911 -0.01013  0.16041  0.78765 \n",
       "\n",
       "Coefficients:\n",
       "            Estimate Std. Error t value Pr(>|t|)    \n",
       "(Intercept)  -7.8267     1.7791  -4.399  3.4e-05 ***\n",
       "dtocs         2.2846     0.2106  10.851  < 2e-16 ***\n",
       "---\n",
       "Signif. codes:  0 '***' 0.001 '**' 0.01 '*' 0.05 '.' 0.1 ' ' 1\n",
       "\n",
       "Residual standard error: 0.3314 on 78 degrees of freedom\n",
       "Multiple R-squared:  0.6015,\tAdjusted R-squared:  0.5964 \n",
       "F-statistic: 117.7 on 1 and 78 DF,  p-value: < 2.2e-16\n"
      ]
     },
     "metadata": {},
     "output_type": "display_data"
    }
   ],
   "source": [
    "data.reg = ts.intersect(ts(log(dtoc$total_atten_.4hr)),\n",
    "                             ts(log(dtoc$dtoc_total)))\n",
    "\n",
    "breaches = data.reg[,1]\n",
    "dtocs = data.reg[,2]\n",
    "m1 = lm(breaches ~ dtocs, data = data.reg)\n",
    "summary(m1)"
   ]
  },
  {
   "cell_type": "code",
   "execution_count": 376,
   "metadata": {},
   "outputs": [
    {
     "data": {
      "image/png": "[encoded data removed]",
      "text/plain": [
       "Plot with title \"Series  resid(m1, ci.type = \"normalised\")\""
      ]
     },
     "metadata": {},
     "output_type": "display_data"
    }
   ],
   "source": [
    "par(mfrow=c(2,1))\n",
    "acf(resid(m1, ci.type=\"normalised\"))\n",
    "pacf(resid(m1, ci.type=\"normalised\"))"
   ]
  },
  {
   "cell_type": "code",
   "execution_count": 377,
   "metadata": {},
   "outputs": [
    {
     "data": {
      "text/plain": [
       "\n",
       "Call:\n",
       "arima(x = breaches, order = c(1, 1, 0), seasonal = list(order = c(0, 1, 0), \n",
       "    period = 12), xreg = data.frame(dtocs))\n",
       "\n",
       "Coefficients:\n",
       "          ar1   dtocs\n",
       "      -0.0733  0.2999\n",
       "s.e.   0.1222  0.6981\n",
       "\n",
       "sigma^2 estimated as 0.05213:  log likelihood = 3.89,  aic = -3.77"
      ]
     },
     "metadata": {},
     "output_type": "display_data"
    },
    {
     "data": {
      "text/plain": [
       "\n",
       "Call:\n",
       "arima(x = breaches, order = c(1, 1, 0), seasonal = list(order = c(1, 1, 0), \n",
       "    period = 12), xreg = data.frame(dtocs))\n",
       "\n",
       "Coefficients:\n",
       "          ar1     sar1   dtocs\n",
       "      -0.1116  -0.6837  0.3746\n",
       "s.e.   0.1246   0.0857  0.5964\n",
       "\n",
       "sigma^2 estimated as 0.02769:  log likelihood = 21.29,  aic = -36.59"
      ]
     },
     "metadata": {},
     "output_type": "display_data"
    },
    {
     "data": {
      "text/plain": [
       "\n",
       "Call:\n",
       "arima(x = breaches, order = c(1, 1, 0), seasonal = list(order = c(1, 1, 0), \n",
       "    period = 12), xreg = data.frame(dtocs))\n",
       "\n",
       "Coefficients:\n",
       "          ar1     sar1   dtocs\n",
       "      -0.1116  -0.6837  0.3746\n",
       "s.e.   0.1246   0.0857  0.5964\n",
       "\n",
       "sigma^2 estimated as 0.02769:  log likelihood = 21.29,  aic = -36.59"
      ]
     },
     "metadata": {},
     "output_type": "display_data"
    },
    {
     "data": {
      "text/plain": [
       "\n",
       "Call:\n",
       "arima(x = breaches, order = c(1, 1, 1), seasonal = list(order = c(1, 1, 0), \n",
       "    period = 12), xreg = data.frame(dtocs))\n",
       "\n",
       "Coefficients:\n",
       "         ar1      ma1     sar1   dtocs\n",
       "      0.6170  -1.0000  -0.6724  0.5235\n",
       "s.e.  0.1093   0.0545   0.0885  0.3183\n",
       "\n",
       "sigma^2 estimated as 0.02307:  log likelihood = 25.74,  aic = -43.47"
      ]
     },
     "metadata": {},
     "output_type": "display_data"
    }
   ],
   "source": [
    "m2 = arima(breaches, order=c(1,1,0),\n",
    "           seasonal = list(order =c(0,1,0), period = 12),\n",
    "           xreg=data.frame(dtocs)); m2\n",
    "\n",
    "m3 = arima(breaches, order=c(1,1,0),\n",
    "           seasonal = list(order =c(1,1,0), period = 12),\n",
    "           xreg=data.frame(dtocs)); m3\n",
    "\n",
    "m4 = arima(breaches, order=c(1,1,0),\n",
    "           seasonal = list(order =c(1,1,0), period = 12),\n",
    "           xreg=data.frame(dtocs)); m4\n",
    "\n",
    "m5 = arima(breaches, order=c(1,1,1),\n",
    "           seasonal = list(order =c(1,1,0), period = 12),\n",
    "           xreg=data.frame(dtocs)); m5\n"
   ]
  },
  {
   "cell_type": "code",
   "execution_count": 378,
   "metadata": {},
   "outputs": [
    {
     "data": {
      "image/png": "[encoded data removed]",
      "text/plain": [
       "Plot with title \"Series  model$residuals\""
      ]
     },
     "metadata": {},
     "output_type": "display_data"
    },
    {
     "data": {
      "image/png": "[encoded data removed]",
      "text/plain": [
       "Plot with title \"Normal Q-Q Plot\""
      ]
     },
     "metadata": {},
     "output_type": "display_data"
    }
   ],
   "source": [
    "plot_diag(m5)"
   ]
  },
  {
   "cell_type": "code",
   "execution_count": 379,
   "metadata": {},
   "outputs": [
    {
     "data": {
      "text/plain": [
       "\n",
       "z test of coefficients:\n",
       "\n",
       "       Estimate Std. Error  z value  Pr(>|z|)    \n",
       "ar1    0.616967   0.109320   5.6437 1.664e-08 ***\n",
       "ma1   -0.999999   0.054477 -18.3562 < 2.2e-16 ***\n",
       "sar1  -0.672402   0.088513  -7.5966 3.040e-14 ***\n",
       "dtocs  0.523526   0.318334   1.6446    0.1001    \n",
       "---\n",
       "Signif. codes:  0 '***' 0.001 '**' 0.01 '*' 0.05 '.' 0.1 ' ' 1\n"
      ]
     },
     "metadata": {},
     "output_type": "display_data"
    }
   ],
   "source": [
    "coeftest(m5)"
   ]
  },
  {
   "cell_type": "markdown",
   "metadata": {},
   "source": [
    "Outlier detection"
   ]
  },
  {
   "cell_type": "code",
   "execution_count": 380,
   "metadata": {},
   "outputs": [
    {
     "name": "stdout",
     "output_type": "stream",
     "text": [
      "[1] \"No AO detected\"\n"
     ]
    }
   ],
   "source": [
    "detectAO(m5)"
   ]
  },
  {
   "cell_type": "code",
   "execution_count": 310,
   "metadata": {},
   "outputs": [
    {
     "name": "stdout",
     "output_type": "stream",
     "text": [
      "             [,1]\n",
      "ind     34.000000\n",
      "lambda1 -3.917797\n"
     ]
    }
   ],
   "source": [
    "detectIO(m5)"
   ]
  },
  {
   "cell_type": "markdown",
   "metadata": {},
   "source": [
    "Point 34 identified as innovative outlier"
   ]
  },
  {
   "cell_type": "code",
   "execution_count": 381,
   "metadata": {},
   "outputs": [
    {
     "data": {
      "text/plain": [
       "\n",
       "Call:\n",
       "arima(x = breaches, order = c(1, 1, 1), seasonal = list(order = c(1, 1, 0), \n",
       "    period = 12), xreg = data.frame(dtocs), io = c(34))\n",
       "\n",
       "Coefficients:\n",
       "         ar1      ma1     sar1   dtocs    IO.34\n",
       "      0.6915  -0.9770  -0.6960  0.4606  -0.4953\n",
       "s.e.  0.1069   0.0569   0.0813  0.3621   0.1481\n",
       "\n",
       "sigma^2 estimated as 0.01998:  log likelihood = 30.91,  aic = -51.83"
      ]
     },
     "metadata": {},
     "output_type": "display_data"
    }
   ],
   "source": [
    "m6 = arima(breaches, order=c(1,1,1),\n",
    "           seasonal = list(order =c(1,1,0), period = 12),\n",
    "           xreg=data.frame(dtocs), io=c(34)); m6"
   ]
  },
  {
   "cell_type": "code",
   "execution_count": 382,
   "metadata": {
    "scrolled": true
   },
   "outputs": [
    {
     "data": {
      "text/plain": [
       "\n",
       "z test of coefficients:\n",
       "\n",
       "       Estimate Std. Error  z value  Pr(>|z|)    \n",
       "ar1    0.691464   0.106945   6.4656 1.009e-10 ***\n",
       "ma1   -0.976969   0.056912 -17.1664 < 2.2e-16 ***\n",
       "sar1  -0.695990   0.081265  -8.5645 < 2.2e-16 ***\n",
       "dtocs  0.460597   0.362064   1.2721 0.2033219    \n",
       "IO.34 -0.495316   0.148146  -3.3434 0.0008275 ***\n",
       "---\n",
       "Signif. codes:  0 '***' 0.001 '**' 0.01 '*' 0.05 '.' 0.1 ' ' 1\n"
      ]
     },
     "metadata": {},
     "output_type": "display_data"
    }
   ],
   "source": [
    "coeftest(m6)"
   ]
  },
  {
   "cell_type": "code",
   "execution_count": 383,
   "metadata": {},
   "outputs": [
    {
     "data": {
      "image/png": "[encoded data removed]",
      "text/plain": [
       "Plot with title \"\""
      ]
     },
     "metadata": {},
     "output_type": "display_data"
    }
   ],
   "source": [
    "tsdiag(m6, tol=.15,gof.lag=24)"
   ]
  },
  {
   "cell_type": "markdown",
   "metadata": {},
   "source": [
    "Approximate goodness of fit correlation^2"
   ]
  },
  {
   "cell_type": "code",
   "execution_count": 386,
   "metadata": {},
   "outputs": [
    {
     "data": {
      "text/html": [
       "0.938881286530103"
      ],
      "text/latex": [
       "0.938881286530103"
      ],
      "text/markdown": [
       "0.938881286530103"
      ],
      "text/plain": [
       "[1] 0.9388813"
      ]
     },
     "metadata": {},
     "output_type": "display_data"
    }
   ],
   "source": [
    "cor(fitted(m6),breaches)^2"
   ]
  },
  {
   "cell_type": "markdown",
   "metadata": {},
   "source": [
    "## Add in total admissions"
   ]
  },
  {
   "cell_type": "code",
   "execution_count": 393,
   "metadata": {
    "scrolled": true
   },
   "outputs": [
    {
     "data": {
      "text/plain": [
       "\n",
       "Call:\n",
       "arima(x = breaches, order = c(1, 1, 1), seasonal = list(order = c(1, 1, 0), \n",
       "    period = 12), xreg = data.frame(dtocs, admissions), io = c(34))\n",
       "\n",
       "Coefficients:\n",
       "         ar1      ma1     sar1   dtocs  admissions    IO.34\n",
       "      0.3765  -0.6471  -0.6801  1.0403      2.3929  -0.5447\n",
       "s.e.  0.2988   0.2591   0.0812  0.4792      0.8524   0.1409\n",
       "\n",
       "sigma^2 estimated as 0.01879:  log likelihood = 34.27,  aic = -56.54"
      ]
     },
     "metadata": {},
     "output_type": "display_data"
    }
   ],
   "source": [
    "admissions = ts(log(dtoc$total_admissions))\n",
    "\n",
    "m7 = arima(breaches, order=c(1,1,1),\n",
    "           seasonal = list(order =c(1,1,0), period = 12),\n",
    "           xreg=data.frame(dtocs, admissions), io=c(34));m7\n",
    "\n"
   ]
  },
  {
   "cell_type": "code",
   "execution_count": 394,
   "metadata": {},
   "outputs": [
    {
     "data": {
      "text/plain": [
       "\n",
       "z test of coefficients:\n",
       "\n",
       "           Estimate Std. Error z value  Pr(>|z|)    \n",
       "ar1         0.37647    0.29881  1.2599  0.207712    \n",
       "ma1        -0.64712    0.25907 -2.4978  0.012496 *  \n",
       "sar1       -0.68007    0.08118 -8.3773 < 2.2e-16 ***\n",
       "dtocs       1.04028    0.47920  2.1709  0.029940 *  \n",
       "admissions  2.39292    0.85236  2.8074  0.004994 ** \n",
       "IO.34      -0.54471    0.14093 -3.8651  0.000111 ***\n",
       "---\n",
       "Signif. codes:  0 '***' 0.001 '**' 0.01 '*' 0.05 '.' 0.1 ' ' 1\n"
      ]
     },
     "metadata": {},
     "output_type": "display_data"
    }
   ],
   "source": [
    "coeftest(m7)"
   ]
  },
  {
   "cell_type": "markdown",
   "metadata": {},
   "source": [
    "AR(1) term no longer significant.  Drop from model."
   ]
  },
  {
   "cell_type": "code",
   "execution_count": 395,
   "metadata": {},
   "outputs": [
    {
     "data": {
      "text/plain": [
       "\n",
       "Call:\n",
       "arima(x = breaches, order = c(0, 1, 1), seasonal = list(order = c(1, 1, 0), \n",
       "    period = 12), xreg = data.frame(dtocs, admissions), io = c(34))\n",
       "\n",
       "Coefficients:\n",
       "          ma1     sar1   dtocs  admissions    IO.34\n",
       "      -0.2915  -0.6792  1.1273      2.5746  -0.5770\n",
       "s.e.   0.1339   0.0808  0.4895      0.8504   0.1399\n",
       "\n",
       "sigma^2 estimated as 0.01928:  log likelihood = 33.46,  aic = -56.91"
      ]
     },
     "metadata": {},
     "output_type": "display_data"
    }
   ],
   "source": [
    "m7 = arima(breaches, order=c(0,1,1),\n",
    "           seasonal = list(order =c(1,1,0), period = 12),\n",
    "           xreg=data.frame(dtocs, admissions), io=c(34));m7"
   ]
  },
  {
   "cell_type": "code",
   "execution_count": 396,
   "metadata": {},
   "outputs": [
    {
     "data": {
      "text/plain": [
       "\n",
       "z test of coefficients:\n",
       "\n",
       "            Estimate Std. Error z value  Pr(>|z|)    \n",
       "ma1        -0.291501   0.133893 -2.1771  0.029471 *  \n",
       "sar1       -0.679212   0.080767 -8.4096 < 2.2e-16 ***\n",
       "dtocs       1.127267   0.489457  2.3031  0.021273 *  \n",
       "admissions  2.574611   0.850436  3.0274  0.002467 ** \n",
       "IO.34      -0.577002   0.139867 -4.1254 3.701e-05 ***\n",
       "---\n",
       "Signif. codes:  0 '***' 0.001 '**' 0.01 '*' 0.05 '.' 0.1 ' ' 1\n"
      ]
     },
     "metadata": {},
     "output_type": "display_data"
    }
   ],
   "source": [
    "coeftest(m7)"
   ]
  },
  {
   "cell_type": "code",
   "execution_count": 397,
   "metadata": {},
   "outputs": [
    {
     "data": {
      "image/png": "[encoded data removed]",
      "text/plain": [
       "Plot with title \"Series  model$residuals\""
      ]
     },
     "metadata": {},
     "output_type": "display_data"
    },
    {
     "data": {
      "image/png": "[encoded data removed]",
      "text/plain": [
       "Plot with title \"Normal Q-Q Plot\""
      ]
     },
     "metadata": {},
     "output_type": "display_data"
    }
   ],
   "source": [
    "plot_diag(m7)"
   ]
  },
  {
   "cell_type": "code",
   "execution_count": 398,
   "metadata": {},
   "outputs": [
    {
     "data": {
      "text/html": [
       "0.941102593193182"
      ],
      "text/latex": [
       "0.941102593193182"
      ],
      "text/markdown": [
       "0.941102593193182"
      ],
      "text/plain": [
       "[1] 0.9411026"
      ]
     },
     "metadata": {},
     "output_type": "display_data"
    }
   ],
   "source": [
    "cor(fitted(m7),breaches)^2"
   ]
  },
  {
   "cell_type": "markdown",
   "metadata": {},
   "source": [
    "## Total attendences\n",
    "\n"
   ]
  },
  {
   "cell_type": "code",
   "execution_count": 399,
   "metadata": {},
   "outputs": [
    {
     "data": {
      "text/plain": [
       "\n",
       "Call:\n",
       "arima(x = breaches, order = c(0, 1, 1), seasonal = list(order = c(1, 1, 0), \n",
       "    period = 12), xreg = data.frame(dtocs, admissions, attends), io = c(34))\n",
       "\n",
       "Coefficients:\n",
       "         ma1     sar1   dtocs  admissions  attends    IO.34\n",
       "      -0.132  -0.6466  1.1489      1.6533   2.4039  -0.2917\n",
       "s.e.   0.159   0.0956  0.5018      0.7744   0.6154   0.0852\n",
       "\n",
       "sigma^2 estimated as 0.01773:  log likelihood = 36.76,  aic = -61.53"
      ]
     },
     "metadata": {},
     "output_type": "display_data"
    }
   ],
   "source": [
    "attends = ts(log(dtoc$total_atten_t1))\n",
    "\n",
    "m8 = arima(breaches, order=c(0,1,1),\n",
    "           seasonal = list(order =c(1,1,0), period = 12),\n",
    "           xreg=data.frame(dtocs, admissions, attends), io=c(34));m8"
   ]
  },
  {
   "cell_type": "code",
   "execution_count": 400,
   "metadata": {},
   "outputs": [
    {
     "data": {
      "text/plain": [
       "\n",
       "z test of coefficients:\n",
       "\n",
       "            Estimate Std. Error z value  Pr(>|z|)    \n",
       "ma1        -0.132040   0.159046 -0.8302 0.4064231    \n",
       "sar1       -0.646639   0.095639 -6.7613 1.368e-11 ***\n",
       "dtocs       1.148927   0.501831  2.2895 0.0220521 *  \n",
       "admissions  1.653285   0.774407  2.1349 0.0327690 *  \n",
       "attends     2.403872   0.615381  3.9063 9.371e-05 ***\n",
       "IO.34      -0.291725   0.085204 -3.4239 0.0006174 ***\n",
       "---\n",
       "Signif. codes:  0 '***' 0.001 '**' 0.01 '*' 0.05 '.' 0.1 ' ' 1\n"
      ]
     },
     "metadata": {},
     "output_type": "display_data"
    }
   ],
   "source": [
    "coeftest(m8)"
   ]
  },
  {
   "cell_type": "markdown",
   "metadata": {},
   "source": [
    "MA(1) no longer significant. drop from model"
   ]
  },
  {
   "cell_type": "code",
   "execution_count": 403,
   "metadata": {},
   "outputs": [
    {
     "data": {
      "text/plain": [
       "\n",
       "Call:\n",
       "arima(x = breaches, order = c(0, 1, 0), seasonal = list(order = c(1, 1, 0), \n",
       "    period = 12), xreg = data.frame(dtocs, admissions, attends), io = c(34))\n",
       "\n",
       "Coefficients:\n",
       "         sar1   dtocs  admissions  attends    IO.34\n",
       "      -0.6448  1.0448      1.6587   2.3931  -0.2821\n",
       "s.e.   0.0968  0.4807      0.7664   0.6116   0.0803\n",
       "\n",
       "sigma^2 estimated as 0.01794:  log likelihood = 36.4,  aic = -62.79"
      ]
     },
     "metadata": {},
     "output_type": "display_data"
    }
   ],
   "source": [
    "m8 = arima(breaches, order=c(0,1,0),\n",
    "           seasonal = list(order =c(1,1,0), period = 12),\n",
    "           xreg=data.frame(dtocs, admissions, attends), io=c(34));m8"
   ]
  },
  {
   "cell_type": "code",
   "execution_count": 405,
   "metadata": {},
   "outputs": [
    {
     "data": {
      "text/plain": [
       "\n",
       "z test of coefficients:\n",
       "\n",
       "            Estimate Std. Error z value  Pr(>|z|)    \n",
       "sar1       -0.644811   0.096807 -6.6608 2.724e-11 ***\n",
       "dtocs       1.044848   0.480684  2.1737 0.0297298 *  \n",
       "admissions  1.658658   0.766438  2.1641 0.0304556 *  \n",
       "attends     2.393081   0.611572  3.9130 9.116e-05 ***\n",
       "IO.34      -0.282081   0.080299 -3.5129 0.0004433 ***\n",
       "---\n",
       "Signif. codes:  0 '***' 0.001 '**' 0.01 '*' 0.05 '.' 0.1 ' ' 1\n"
      ]
     },
     "metadata": {},
     "output_type": "display_data"
    }
   ],
   "source": [
    "coeftest(m8)"
   ]
  },
  {
   "cell_type": "code",
   "execution_count": 406,
   "metadata": {},
   "outputs": [
    {
     "data": {
      "image/png": "[encoded data removed]",
      "text/plain": [
       "Plot with title \"Series  model$residuals\""
      ]
     },
     "metadata": {},
     "output_type": "display_data"
    },
    {
     "data": {
      "image/png": "[encoded data removed]",
      "text/plain": [
       "Plot with title \"Normal Q-Q Plot\""
      ]
     },
     "metadata": {},
     "output_type": "display_data"
    }
   ],
   "source": [
    "plot_diag(m8)"
   ]
  },
  {
   "cell_type": "code",
   "execution_count": 414,
   "metadata": {},
   "outputs": [
    {
     "data": {
      "text/plain": [
       "\n",
       "\tShapiro-Wilk normality test\n",
       "\n",
       "data:  m8$residuals\n",
       "W = 0.97405, p-value = 0.103\n"
      ]
     },
     "metadata": {},
     "output_type": "display_data"
    }
   ],
   "source": [
    "shapiro.test(m8$residuals)"
   ]
  },
  {
   "cell_type": "markdown",
   "metadata": {},
   "source": [
    "CONCLUSIONS - diagnostics look okay.  No signs of autocorrelation and resids pass normality test."
   ]
  },
  {
   "cell_type": "markdown",
   "metadata": {},
   "source": [
    "### Final"
   ]
  },
  {
   "cell_type": "code",
   "execution_count": 407,
   "metadata": {},
   "outputs": [
    {
     "data": {
      "text/html": [
       "0.944302621708804"
      ],
      "text/latex": [
       "0.944302621708804"
      ],
      "text/markdown": [
       "0.944302621708804"
      ],
      "text/plain": [
       "[1] 0.9443026"
      ]
     },
     "metadata": {},
     "output_type": "display_data"
    }
   ],
   "source": [
    "cor(fitted(m8),breaches)^2"
   ]
  },
  {
   "cell_type": "code",
   "execution_count": 408,
   "metadata": {},
   "outputs": [
    {
     "data": {
      "image/png": "[encoded data removed]",
      "text/plain": [
       "plot without title"
      ]
     },
     "metadata": {},
     "output_type": "display_data"
    }
   ],
   "source": [
    "plot(as.vector(fitted(m8)), as.vector(breaches), ylab=\"Breaches (actual)\", xlab=\" Breaches (predicted)\")"
   ]
  },
  {
   "cell_type": "code",
   "execution_count": 453,
   "metadata": {},
   "outputs": [],
   "source": [
    "final_results <-function(m1, m2){\n",
    "    cat('** unadjusted model **' )\n",
    "    print(coeftest(m1))\n",
    "    r1 <- cor(fitted(m1),breaches)^2\n",
    "    \n",
    "    cat(\"pseudo goodness of fit:\", r1, \"\\n\")\n",
    "    \n",
    "    cat(\"\\n** adjusted model ** \")\n",
    "    print(coeftest(m2))\n",
    "    r2 <-cor(fitted(m2),breaches)^2\n",
    "    cat(\"pseudo goodness of fit:\", r2)\n",
    "    \n",
    "}"
   ]
  },
  {
   "cell_type": "code",
   "execution_count": 454,
   "metadata": {},
   "outputs": [
    {
     "name": "stdout",
     "output_type": "stream",
     "text": [
      "** unadjusted model **\n",
      "z test of coefficients:\n",
      "\n",
      "       Estimate Std. Error  z value  Pr(>|z|)    \n",
      "ar1    0.691464   0.106945   6.4656 1.009e-10 ***\n",
      "ma1   -0.976969   0.056912 -17.1664 < 2.2e-16 ***\n",
      "sar1  -0.695990   0.081265  -8.5645 < 2.2e-16 ***\n",
      "dtocs  0.460597   0.362064   1.2721 0.2033219    \n",
      "IO.34 -0.495316   0.148146  -3.3434 0.0008275 ***\n",
      "---\n",
      "Signif. codes:  0 '***' 0.001 '**' 0.01 '*' 0.05 '.' 0.1 ' ' 1\n",
      "\n",
      "pseudo goodness of fit: 0.9388813 \n",
      "\n",
      "** adjusted model ** \n",
      "z test of coefficients:\n",
      "\n",
      "            Estimate Std. Error z value  Pr(>|z|)    \n",
      "sar1       -0.644811   0.096807 -6.6608 2.724e-11 ***\n",
      "dtocs       1.044848   0.480684  2.1737 0.0297298 *  \n",
      "admissions  1.658658   0.766438  2.1641 0.0304556 *  \n",
      "attends     2.393081   0.611572  3.9130 9.116e-05 ***\n",
      "IO.34      -0.282081   0.080299 -3.5129 0.0004433 ***\n",
      "---\n",
      "Signif. codes:  0 '***' 0.001 '**' 0.01 '*' 0.05 '.' 0.1 ' ' 1\n",
      "\n",
      "pseudo goodness of fit: 0.9443026"
     ]
    }
   ],
   "source": [
    "final_results(m6, m8)"
   ]
  },
  {
   "cell_type": "markdown",
   "metadata": {},
   "source": [
    "Interpretation of adjusted model.  (**remember these are national level data**)\n",
    "\n",
    "1 percent increase in DToCs leads to a 1.04 percent increase in breaches.\n",
    "1 percent increase in Admissions leads to a 1.65 percent increase in breaches\n",
    "1 percent increase in attendences (type 1) leads to a 2.39% increase in breaches\n",
    "\n",
    "**Notes: all data are logged.  Data are also difference - does that affect how I interpret?**"
   ]
  },
  {
   "cell_type": "code",
   "execution_count": null,
   "metadata": {
    "collapsed": true
   },
   "outputs": [],
   "source": []
  }
 ],
 "metadata": {
  "kernelspec": {
   "display_name": "R",
   "language": "R",
   "name": "ir"
  },
  "language_info": {
   "codemirror_mode": "r",
   "file_extension": ".r",
   "mimetype": "text/x-r-source",
   "name": "R",
   "pygments_lexer": "r",
   "version": "3.4.3"
  }
 },
 "nbformat": 4,
 "nbformat_minor": 2
}
