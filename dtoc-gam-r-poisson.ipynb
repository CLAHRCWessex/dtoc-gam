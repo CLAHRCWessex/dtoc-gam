{
 "cells": [
  {
   "cell_type": "markdown",
   "metadata": {},
   "source": [
    "# Generalised Additive Model - analysis of relationship between DToCs and ED breaches"
   ]
  },
  {
   "cell_type": "markdown",
   "metadata": {},
   "source": [
    "Imports"
   ]
  },
  {
   "cell_type": "code",
   "execution_count": 1,
   "metadata": {},
   "outputs": [
    {
     "name": "stderr",
     "output_type": "stream",
     "text": [
      "Loading required package: mgcv\n",
      "Loading required package: nlme\n",
      "This is mgcv 1.8-22. For overview type 'help(\"mgcv-package\")'.\n",
      "Loading required package: car\n"
     ]
    }
   ],
   "source": [
    "require(mgcv)\n",
    "require(nlme)\n",
    "require(car)\n",
    "library(data.table)\n",
    "library(ggplot2)"
   ]
  },
  {
   "cell_type": "markdown",
   "metadata": {},
   "source": [
    "Read in and process data"
   ]
  },
  {
   "cell_type": "code",
   "execution_count": 2,
   "metadata": {
    "collapsed": true
   },
   "outputs": [],
   "source": [
    "#data = read.csv(\"input/20180913_diff_dtoc.csv\")\n",
    "dtoc = read.csv(\"input/dtoc.csv\")"
   ]
  },
  {
   "cell_type": "code",
   "execution_count": 3,
   "metadata": {
    "collapsed": true
   },
   "outputs": [],
   "source": [
    "dtoc$yr = as.numeric(substr(dtoc$year, 1, 4))"
   ]
  },
  {
   "cell_type": "code",
   "execution_count": 4,
   "metadata": {},
   "outputs": [
    {
     "data": {
      "text/html": [
       "<table>\n",
       "<thead><tr><th scope=col>year</th><th scope=col>month</th><th scope=col>total_atten</th><th scope=col>total_atten_t1</th><th scope=col>total_atten_.4hr</th><th scope=col>X95._targ</th><th scope=col>total_admissions</th><th scope=col>dtoc_a</th><th scope=col>dtoc_na</th><th scope=col>dtoc_total</th><th scope=col>mth</th><th scope=col>time</th><th scope=col>yr</th></tr></thead>\n",
       "<tbody>\n",
       "\t<tr><td>2010-11  </td><td>August   </td><td>1719197  </td><td>1138652  </td><td>33184    </td><td>0.9806980</td><td>425702.0 </td><td>2559     </td><td>2381     </td><td>4940     </td><td> 8       </td><td>1        </td><td>2010     </td></tr>\n",
       "\t<tr><td>2010-11  </td><td>September</td><td>1715117  </td><td>1150728  </td><td>41151    </td><td>0.9760069</td><td>424900.0 </td><td>2647     </td><td>2357     </td><td>5004     </td><td> 9       </td><td>2        </td><td>2010     </td></tr>\n",
       "\t<tr><td>2010-11  </td><td>October  </td><td>1753934  </td><td>1163143  </td><td>47414    </td><td>0.9729671</td><td>436215.0 </td><td>2513     </td><td>2075     </td><td>4588     </td><td>10       </td><td>3        </td><td>2010     </td></tr>\n",
       "\t<tr><td>2010-11  </td><td>November </td><td>1604591  </td><td>1111295  </td><td>46436    </td><td>0.9710603</td><td>429099.0 </td><td>2352     </td><td>2057     </td><td>4409     </td><td>11       </td><td>4        </td><td>2010     </td></tr>\n",
       "\t<tr><td>2010-11  </td><td>December </td><td>1647824  </td><td>1159204  </td><td>89917    </td><td>0.9454327</td><td>452728.7 </td><td>1995     </td><td>1866     </td><td>3861     </td><td>12       </td><td>5        </td><td>2010     </td></tr>\n",
       "\t<tr><td>2010-11  </td><td>January  </td><td>1654907  </td><td>1133881  </td><td>72889    </td><td>0.9559557</td><td>442003.7 </td><td>2563     </td><td>2034     </td><td>4597     </td><td> 1       </td><td>6        </td><td>2010     </td></tr>\n",
       "</tbody>\n",
       "</table>\n"
      ],
      "text/latex": [
       "\\begin{tabular}{r|lllllllllllll}\n",
       " year & month & total\\_atten & total\\_atten\\_t1 & total\\_atten\\_.4hr & X95.\\_targ & total\\_admissions & dtoc\\_a & dtoc\\_na & dtoc\\_total & mth & time & yr\\\\\n",
       "\\hline\n",
       "\t 2010-11   & August    & 1719197   & 1138652   & 33184     & 0.9806980 & 425702.0  & 2559      & 2381      & 4940      &  8        & 1         & 2010     \\\\\n",
       "\t 2010-11   & September & 1715117   & 1150728   & 41151     & 0.9760069 & 424900.0  & 2647      & 2357      & 5004      &  9        & 2         & 2010     \\\\\n",
       "\t 2010-11   & October   & 1753934   & 1163143   & 47414     & 0.9729671 & 436215.0  & 2513      & 2075      & 4588      & 10        & 3         & 2010     \\\\\n",
       "\t 2010-11   & November  & 1604591   & 1111295   & 46436     & 0.9710603 & 429099.0  & 2352      & 2057      & 4409      & 11        & 4         & 2010     \\\\\n",
       "\t 2010-11   & December  & 1647824   & 1159204   & 89917     & 0.9454327 & 452728.7  & 1995      & 1866      & 3861      & 12        & 5         & 2010     \\\\\n",
       "\t 2010-11   & January   & 1654907   & 1133881   & 72889     & 0.9559557 & 442003.7  & 2563      & 2034      & 4597      &  1        & 6         & 2010     \\\\\n",
       "\\end{tabular}\n"
      ],
      "text/markdown": [
       "\n",
       "year | month | total_atten | total_atten_t1 | total_atten_.4hr | X95._targ | total_admissions | dtoc_a | dtoc_na | dtoc_total | mth | time | yr | \n",
       "|---|---|---|---|---|---|\n",
       "| 2010-11   | August    | 1719197   | 1138652   | 33184     | 0.9806980 | 425702.0  | 2559      | 2381      | 4940      |  8        | 1         | 2010      | \n",
       "| 2010-11   | September | 1715117   | 1150728   | 41151     | 0.9760069 | 424900.0  | 2647      | 2357      | 5004      |  9        | 2         | 2010      | \n",
       "| 2010-11   | October   | 1753934   | 1163143   | 47414     | 0.9729671 | 436215.0  | 2513      | 2075      | 4588      | 10        | 3         | 2010      | \n",
       "| 2010-11   | November  | 1604591   | 1111295   | 46436     | 0.9710603 | 429099.0  | 2352      | 2057      | 4409      | 11        | 4         | 2010      | \n",
       "| 2010-11   | December  | 1647824   | 1159204   | 89917     | 0.9454327 | 452728.7  | 1995      | 1866      | 3861      | 12        | 5         | 2010      | \n",
       "| 2010-11   | January   | 1654907   | 1133881   | 72889     | 0.9559557 | 442003.7  | 2563      | 2034      | 4597      |  1        | 6         | 2010      | \n",
       "\n",
       "\n"
      ],
      "text/plain": [
       "  year    month     total_atten total_atten_t1 total_atten_.4hr X95._targ\n",
       "1 2010-11 August    1719197     1138652        33184            0.9806980\n",
       "2 2010-11 September 1715117     1150728        41151            0.9760069\n",
       "3 2010-11 October   1753934     1163143        47414            0.9729671\n",
       "4 2010-11 November  1604591     1111295        46436            0.9710603\n",
       "5 2010-11 December  1647824     1159204        89917            0.9454327\n",
       "6 2010-11 January   1654907     1133881        72889            0.9559557\n",
       "  total_admissions dtoc_a dtoc_na dtoc_total mth time yr  \n",
       "1 425702.0         2559   2381    4940        8  1    2010\n",
       "2 424900.0         2647   2357    5004        9  2    2010\n",
       "3 436215.0         2513   2075    4588       10  3    2010\n",
       "4 429099.0         2352   2057    4409       11  4    2010\n",
       "5 452728.7         1995   1866    3861       12  5    2010\n",
       "6 442003.7         2563   2034    4597        1  6    2010"
      ]
     },
     "metadata": {},
     "output_type": "display_data"
    }
   ],
   "source": [
    "head(dtoc)"
   ]
  },
  {
   "cell_type": "code",
   "execution_count": 99,
   "metadata": {},
   "outputs": [
    {
     "data": {
      "text/plain": [
       "      year         month     total_atten      total_atten_t1   \n",
       " 2010-11: 8   August  : 7   Min.   :1519203   Min.   :1053707  \n",
       " 2011-12:12   December: 7   1st Qu.:1684770   1st Qu.:1158545  \n",
       " 2012-13:12   February: 7   Median :1740479   Median :1213561  \n",
       " 2013-14:12   January : 7   Mean   :1737679   Mean   :1207930  \n",
       " 2014-15:12   March   : 7   3rd Qu.:1802397   3rd Qu.:1251347  \n",
       " 2015-16:12   November: 7   Max.   :1910700   Max.   :1353477  \n",
       " 2016-17:12   (Other) :38                                      \n",
       " total_atten_.4hr   X95._targ      total_admissions     dtoc_a    \n",
       " Min.   : 33184   Min.   :0.8255   Min.   :401206   Min.   :1995  \n",
       " 1st Qu.: 64034   1st Qu.:0.9158   1st Qu.:427653   1st Qu.:2402  \n",
       " Median : 89509   Median :0.9480   Median :448185   Median :2676  \n",
       " Mean   :110424   Mean   :0.9361   Mean   :450436   Mean   :2976  \n",
       " 3rd Qu.:142784   3rd Qu.:0.9649   3rd Qu.:467992   3rd Qu.:3371  \n",
       " Max.   :281612   Max.   :0.9807   Max.   :509805   Max.   :4781  \n",
       "                                                                  \n",
       "    dtoc_na       dtoc_total        mth             time             yr      \n",
       " Min.   :1408   Min.   :3448   Min.   : 1.00   Min.   : 1.00   Min.   :2010  \n",
       " 1st Qu.:1564   1st Qu.:4092   1st Qu.: 3.00   1st Qu.:20.75   1st Qu.:2012  \n",
       " Median :1706   Median :4384   Median : 7.00   Median :40.50   Median :2013  \n",
       " Mean   :1765   Mean   :4742   Mean   : 6.55   Mean   :40.50   Mean   :2013  \n",
       " 3rd Qu.:1901   3rd Qu.:5076   3rd Qu.:10.00   3rd Qu.:60.25   3rd Qu.:2015  \n",
       " Max.   :2381   Max.   :7118   Max.   :12.00   Max.   :80.00   Max.   :2016  \n",
       "                                                                             "
      ]
     },
     "metadata": {},
     "output_type": "display_data"
    }
   ],
   "source": [
    "summary(dtoc)$"
   ]
  },
  {
   "cell_type": "markdown",
   "metadata": {},
   "source": [
    "Preliminary look at time series"
   ]
  },
  {
   "cell_type": "code",
   "execution_count": 5,
   "metadata": {
    "collapsed": true
   },
   "outputs": [],
   "source": [
    "ts_breach = ts(dtoc$total_atten_.4hr)\n",
    "ts_dtoc = ts(dtoc$dtoc_total)\n",
    "ts_attend = ts(dtoc$total_atten_t1)\n",
    "ts_admit = ts(dtoc$total_admissions)"
   ]
  },
  {
   "cell_type": "code",
   "execution_count": 6,
   "metadata": {},
   "outputs": [
    {
     "data": {
      "image/png": "[encoded data removed]",
      "text/plain": [
       "plot without title"
      ]
     },
     "metadata": {},
     "output_type": "display_data"
    }
   ],
   "source": [
    "par(mfrow=c(2,2))\n",
    "plot.ts(ts_breach,xy.lines=F,xy.labels=F) #  (increasing variance)\n",
    "plot.ts(ts_dtoc,xy.lines=F,xy.labels=F)\n",
    "plot.ts(ts_attend,xy.lines=F,xy.labels=F)\n",
    "plot.ts(ts_admit,xy.lines=F,xy.labels=F)"
   ]
  },
  {
   "cell_type": "markdown",
   "metadata": {},
   "source": [
    "## Utility functions"
   ]
  },
  {
   "cell_type": "code",
   "execution_count": 7,
   "metadata": {
    "collapsed": true
   },
   "outputs": [],
   "source": [
    "plot_fit <-function(gam, title){\n",
    "    datas <- rbindlist(list(data.table(breaches = dtoc$total_atten_.4hr,time= dtoc$time),\n",
    "    data.table(breaches = gam$fitted.values,time = dtoc$time)))\n",
    "\n",
    "    datas[, type := c(rep(\"Real\", nrow(dtoc)), rep(\"Fitted\", nrow(dtoc)))]\n",
    "\n",
    "    ggplot(data = datas, aes(time, breaches, group = type, colour = type)) +\n",
    "      geom_line(size = 0.8) +\n",
    "      theme_bw() +\n",
    "      labs(x = \"Time\", y = \"Breaches\",\n",
    "           title = paste(\"Fit from GAM\",title))\n",
    "    }"
   ]
  },
  {
   "cell_type": "markdown",
   "metadata": {},
   "source": [
    "## Preliminary GAM models (not accounting for autocorrelation)"
   ]
  },
  {
   "cell_type": "markdown",
   "metadata": {},
   "source": [
    "### Model 1: No interation between month and year "
   ]
  },
  {
   "cell_type": "code",
   "execution_count": 106,
   "metadata": {},
   "outputs": [
    {
     "name": "stdout",
     "output_type": "stream",
     "text": [
      "\n",
      " Maximum number of PQL iterations:  20 \n"
     ]
    },
    {
     "name": "stderr",
     "output_type": "stream",
     "text": [
      "iteration 1\n",
      "iteration 2\n",
      "iteration 3\n"
     ]
    },
    {
     "data": {
      "text/plain": [
       "\n",
       "Family: poisson \n",
       "Link function: log \n",
       "\n",
       "Formula:\n",
       "total_atten_.4hr ~ s(mth, k = 12) + s(yr, k = 6)\n",
       "\n",
       "Parametric coefficients:\n",
       "             Estimate Std. Error t value Pr(>|t|)    \n",
       "(Intercept) 1.148e+01  3.809e-04   30151   <2e-16 ***\n",
       "---\n",
       "Signif. codes:  0 '***' 0.001 '**' 0.01 '*' 0.05 '.' 0.1 ' ' 1\n",
       "\n",
       "Approximate significance of smooth terms:\n",
       "          edf Ref.df      F p-value    \n",
       "s(mth) 10.997 10.997  30932  <2e-16 ***\n",
       "s(yr)   4.998  4.998 384649  <2e-16 ***\n",
       "---\n",
       "Signif. codes:  0 '***' 0.001 '**' 0.01 '*' 0.05 '.' 0.1 ' ' 1\n",
       "\n",
       "R-sq.(adj) =  0.886   \n",
       "  Scale est. = 1         n = 80"
      ]
     },
     "metadata": {},
     "output_type": "display_data"
    }
   ],
   "source": [
    "m1 <- gamm(total_atten_.4hr ~s(mth, k = 12) + s(yr, k=6), data=dtoc, \n",
    "           family=\"poisson\",\n",
    "          method=\"REML\")\n",
    "summary(m1$gam)"
   ]
  },
  {
   "cell_type": "code",
   "execution_count": 108,
   "metadata": {},
   "outputs": [
    {
     "data": {
      "text/html": [
       "'PQL'"
      ],
      "text/latex": [
       "'PQL'"
      ],
      "text/markdown": [
       "'PQL'"
      ],
      "text/plain": [
       "[1] \"PQL\""
      ]
     },
     "metadata": {},
     "output_type": "display_data"
    }
   ],
   "source": [
    "\n"
   ]
  },
  {
   "cell_type": "markdown",
   "metadata": {},
   "source": [
    "Take a look at month and year components."
   ]
  },
  {
   "cell_type": "code",
   "execution_count": 9,
   "metadata": {},
   "outputs": [
    {
     "data": {
      "image/png": "[encoded data removed]",
      "text/plain": [
       "plot without title"
      ]
     },
     "metadata": {},
     "output_type": "display_data"
    }
   ],
   "source": [
    "layout(matrix(1:2, nrow = 1))\n",
    "plot(m1$gam, shade = TRUE)"
   ]
  },
  {
   "cell_type": "code",
   "execution_count": 10,
   "metadata": {},
   "outputs": [
    {
     "data": {},
     "metadata": {},
     "output_type": "display_data"
    },
    {
     "data": {
      "image/png": "[encoded data removed]",
      "text/plain": [
       "plot without title"
      ]
     },
     "metadata": {},
     "output_type": "display_data"
    }
   ],
   "source": [
    "plot_fit(m1$gam, \"model 1\")"
   ]
  },
  {
   "cell_type": "markdown",
   "metadata": {},
   "source": [
    "### Model 2: Month and Year Interaction (ignoring autocorrelation of resids)"
   ]
  },
  {
   "cell_type": "code",
   "execution_count": 11,
   "metadata": {},
   "outputs": [
    {
     "name": "stdout",
     "output_type": "stream",
     "text": [
      "\n",
      " Maximum number of PQL iterations:  20 \n"
     ]
    },
    {
     "name": "stderr",
     "output_type": "stream",
     "text": [
      "iteration 1\n",
      "iteration 2\n",
      "iteration 3\n"
     ]
    },
    {
     "data": {
      "text/plain": [
       "\n",
       "Family: poisson \n",
       "Link function: log \n",
       "\n",
       "Formula:\n",
       "total_atten_.4hr ~ s(mth, yr)\n",
       "\n",
       "Parametric coefficients:\n",
       "             Estimate Std. Error t value Pr(>|t|)    \n",
       "(Intercept) 1.148e+01  3.838e-04   29916   <2e-16 ***\n",
       "---\n",
       "Signif. codes:  0 '***' 0.001 '**' 0.01 '*' 0.05 '.' 0.1 ' ' 1\n",
       "\n",
       "Approximate significance of smooth terms:\n",
       "            edf Ref.df     F p-value    \n",
       "s(mth,yr) 28.99  28.99 77023  <2e-16 ***\n",
       "---\n",
       "Signif. codes:  0 '***' 0.001 '**' 0.01 '*' 0.05 '.' 0.1 ' ' 1\n",
       "\n",
       "R-sq.(adj) =  0.903   \n",
       "  Scale est. = 1         n = 80"
      ]
     },
     "metadata": {},
     "output_type": "display_data"
    }
   ],
   "source": [
    "m2 <- gamm(total_atten_.4hr ~s(mth, yr), data=dtoc, family = \"poisson\")\n",
    "summary(m2$gam)"
   ]
  },
  {
   "cell_type": "code",
   "execution_count": 12,
   "metadata": {},
   "outputs": [
    {
     "data": {},
     "metadata": {},
     "output_type": "display_data"
    },
    {
     "data": {
      "image/png": "[encoded data removed]",
      "text/plain": [
       "plot without title"
      ]
     },
     "metadata": {},
     "output_type": "display_data"
    }
   ],
   "source": [
    "plot_fit(m2$gam, \"model 2\")"
   ]
  },
  {
   "cell_type": "markdown",
   "metadata": {},
   "source": [
    "### Model 3: Tensor interactions(!?) (ignore errors)"
   ]
  },
  {
   "cell_type": "code",
   "execution_count": 13,
   "metadata": {},
   "outputs": [
    {
     "name": "stdout",
     "output_type": "stream",
     "text": [
      "\n",
      " Maximum number of PQL iterations:  20 \n"
     ]
    },
    {
     "name": "stderr",
     "output_type": "stream",
     "text": [
      "iteration 1\n",
      "iteration 2\n",
      "iteration 3\n"
     ]
    },
    {
     "data": {
      "text/html": [
       "0.91055837915702"
      ],
      "text/latex": [
       "0.91055837915702"
      ],
      "text/markdown": [
       "0.91055837915702"
      ],
      "text/plain": [
       "[1] 0.9105584"
      ]
     },
     "metadata": {},
     "output_type": "display_data"
    }
   ],
   "source": [
    "m3 <- gamm(total_atten_.4hr ~ te(mth, yr, bs= c(\"cr\", \"ps\")), data=dtoc, family = \"poisson\")\n",
    "summary(m3$gam)$r.sq"
   ]
  },
  {
   "cell_type": "markdown",
   "metadata": {},
   "source": [
    "no real difference from splines"
   ]
  },
  {
   "cell_type": "code",
   "execution_count": 14,
   "metadata": {},
   "outputs": [
    {
     "data": {
      "text/html": [
       "<table>\n",
       "<thead><tr><th></th><th scope=col>edf</th><th scope=col>Ref.df</th><th scope=col>F</th><th scope=col>p-value</th></tr></thead>\n",
       "<tbody>\n",
       "\t<tr><th scope=row>te(mth,yr)</th><td>23.99454</td><td>23.99454</td><td>93021.68</td><td>0       </td></tr>\n",
       "</tbody>\n",
       "</table>\n"
      ],
      "text/latex": [
       "\\begin{tabular}{r|llll}\n",
       "  & edf & Ref.df & F & p-value\\\\\n",
       "\\hline\n",
       "\tte(mth,yr) & 23.99454 & 23.99454 & 93021.68 & 0       \\\\\n",
       "\\end{tabular}\n"
      ],
      "text/markdown": [
       "\n",
       "| <!--/--> | edf | Ref.df | F | p-value | \n",
       "|---|\n",
       "| te(mth,yr) | 23.99454 | 23.99454 | 93021.68 | 0        | \n",
       "\n",
       "\n"
      ],
      "text/plain": [
       "           edf      Ref.df   F        p-value\n",
       "te(mth,yr) 23.99454 23.99454 93021.68 0      "
      ]
     },
     "metadata": {},
     "output_type": "display_data"
    }
   ],
   "source": [
    "summary(m3$gam)$s.table"
   ]
  },
  {
   "cell_type": "code",
   "execution_count": 15,
   "metadata": {},
   "outputs": [
    {
     "data": {},
     "metadata": {},
     "output_type": "display_data"
    },
    {
     "data": {
      "image/png": "[encoded data removed]",
      "text/plain": [
       "plot without title"
      ]
     },
     "metadata": {},
     "output_type": "display_data"
    }
   ],
   "source": [
    "plot_fit(m3$gam, \"model 3\")"
   ]
  },
  {
   "cell_type": "markdown",
   "metadata": {},
   "source": [
    "### Compare basic models"
   ]
  },
  {
   "cell_type": "code",
   "execution_count": 16,
   "metadata": {},
   "outputs": [],
   "source": [
    "#anova(m1$lme, m2$lme, m3$lme)"
   ]
  },
  {
   "cell_type": "markdown",
   "metadata": {},
   "source": [
    "Conclusion - anova and AIC provide no strong evidence to go for interaction model over basic.  Visually it does look like we should be including an interaction between month and year!"
   ]
  },
  {
   "cell_type": "markdown",
   "metadata": {},
   "source": [
    "## GAM - introducing further predictors (ignoring autocorrelation)"
   ]
  },
  {
   "cell_type": "code",
   "execution_count": 17,
   "metadata": {
    "scrolled": true
   },
   "outputs": [
    {
     "name": "stdout",
     "output_type": "stream",
     "text": [
      "\n",
      " Maximum number of PQL iterations:  20 \n"
     ]
    },
    {
     "name": "stderr",
     "output_type": "stream",
     "text": [
      "iteration 1\n",
      "iteration 2\n",
      "iteration 3\n"
     ]
    },
    {
     "name": "stdout",
     "output_type": "stream",
     "text": [
      "\n",
      " Maximum number of PQL iterations:  20 \n"
     ]
    },
    {
     "name": "stderr",
     "output_type": "stream",
     "text": [
      "iteration 1\n",
      "iteration 2\n",
      "iteration 3\n"
     ]
    }
   ],
   "source": [
    "m4 <- gamm(total_atten_.4hr ~s(mth, k = 12) + s(yr, k=6) + dtoc_total, data=dtoc\n",
    "          , family=\"poisson\")\n",
    "m5 <- gamm(total_atten_.4hr ~s(mth, k = 12) + s(yr, k=6) + s(dtoc_total, k = 6), data=dtoc,\n",
    "          family = \"poisson\")"
   ]
  },
  {
   "cell_type": "code",
   "execution_count": 18,
   "metadata": {},
   "outputs": [
    {
     "data": {
      "text/plain": [
       "\n",
       "Family: poisson \n",
       "Link function: log \n",
       "\n",
       "Formula:\n",
       "total_atten_.4hr ~ s(mth, k = 12) + s(yr, k = 6) + dtoc_total\n",
       "\n",
       "Parametric coefficients:\n",
       "             Estimate Std. Error t value Pr(>|t|)    \n",
       "(Intercept) 1.024e+01  9.424e-03    1087   <2e-16 ***\n",
       "dtoc_total  2.622e-04  1.986e-06     132   <2e-16 ***\n",
       "---\n",
       "Signif. codes:  0 '***' 0.001 '**' 0.01 '*' 0.05 '.' 0.1 ' ' 1\n",
       "\n",
       "Approximate significance of smooth terms:\n",
       "          edf Ref.df     F p-value    \n",
       "s(mth) 10.997 10.997 26912  <2e-16 ***\n",
       "s(yr)   4.999  4.999 49033  <2e-16 ***\n",
       "---\n",
       "Signif. codes:  0 '***' 0.001 '**' 0.01 '*' 0.05 '.' 0.1 ' ' 1\n",
       "\n",
       "R-sq.(adj) =  0.895   \n",
       "  Scale est. = 1         n = 80"
      ]
     },
     "metadata": {},
     "output_type": "display_data"
    }
   ],
   "source": [
    "summary(m4$gam)"
   ]
  },
  {
   "cell_type": "code",
   "execution_count": 19,
   "metadata": {},
   "outputs": [],
   "source": [
    "#anova(m4$lme, m5$lme)"
   ]
  },
  {
   "cell_type": "markdown",
   "metadata": {},
   "source": [
    "cannot use anova - not valid"
   ]
  },
  {
   "cell_type": "code",
   "execution_count": 20,
   "metadata": {},
   "outputs": [
    {
     "data": {},
     "metadata": {},
     "output_type": "display_data"
    },
    {
     "data": {
      "image/png": "[encoded data removed]",
      "text/plain": [
       "plot without title"
      ]
     },
     "metadata": {},
     "output_type": "display_data"
    }
   ],
   "source": [
    "plot_fit(m4$gam, \"model 4 (ignoring autocorrelation)\")"
   ]
  },
  {
   "cell_type": "code",
   "execution_count": 21,
   "metadata": {},
   "outputs": [
    {
     "name": "stdout",
     "output_type": "stream",
     "text": [
      "\n",
      " Maximum number of PQL iterations:  20 \n"
     ]
    },
    {
     "name": "stderr",
     "output_type": "stream",
     "text": [
      "iteration 1\n",
      "iteration 2\n",
      "iteration 3\n"
     ]
    },
    {
     "name": "stdout",
     "output_type": "stream",
     "text": [
      "\n",
      " Maximum number of PQL iterations:  20 \n"
     ]
    },
    {
     "name": "stderr",
     "output_type": "stream",
     "text": [
      "iteration 1\n",
      "iteration 2\n",
      "iteration 3\n"
     ]
    }
   ],
   "source": [
    "m5 <- gamm(total_atten_.4hr ~s(mth, k = 12) + s(yr, k=6) \n",
    "           + dtoc_total \n",
    "           + total_admissions, \n",
    "           data=dtoc,\n",
    "           family=\"poisson\")\n",
    "\n",
    "m6 <- gamm(total_atten_.4hr ~s(mth, k = 12) + s(yr, k=6) \n",
    "           + dtoc_total \n",
    "           + total_admissions\n",
    "           + total_atten_t1, \n",
    "           data=dtoc,\n",
    "          family=\"poisson\")"
   ]
  },
  {
   "cell_type": "code",
   "execution_count": 22,
   "metadata": {},
   "outputs": [],
   "source": [
    "#anova(m4$lme, m5$lme, m6$lme)"
   ]
  },
  {
   "cell_type": "code",
   "execution_count": 23,
   "metadata": {},
   "outputs": [
    {
     "data": {
      "text/plain": [
       "\n",
       "Family: poisson \n",
       "Link function: log \n",
       "\n",
       "Formula:\n",
       "total_atten_.4hr ~ s(mth, k = 12) + s(yr, k = 6) + dtoc_total + \n",
       "    total_admissions + total_atten_t1\n",
       "\n",
       "Parametric coefficients:\n",
       "                   Estimate Std. Error t value Pr(>|t|)    \n",
       "(Intercept)       7.583e+00  1.523e-02  497.89   <2e-16 ***\n",
       "dtoc_total        1.632e-04  2.178e-06   74.94   <2e-16 ***\n",
       "total_admissions -2.355e-06  6.479e-08  -36.35   <2e-16 ***\n",
       "total_atten_t1    3.466e-06  1.914e-08  181.12   <2e-16 ***\n",
       "---\n",
       "Signif. codes:  0 '***' 0.001 '**' 0.01 '*' 0.05 '.' 0.1 ' ' 1\n",
       "\n",
       "Approximate significance of smooth terms:\n",
       "          edf Ref.df     F p-value    \n",
       "s(mth) 10.998 10.998 48638  <2e-16 ***\n",
       "s(yr)   4.995  4.995 22796  <2e-16 ***\n",
       "---\n",
       "Signif. codes:  0 '***' 0.001 '**' 0.01 '*' 0.05 '.' 0.1 ' ' 1\n",
       "\n",
       "R-sq.(adj) =  0.937   \n",
       "  Scale est. = 1         n = 80"
      ]
     },
     "metadata": {},
     "output_type": "display_data"
    }
   ],
   "source": [
    "summary(m6$gam)"
   ]
  },
  {
   "cell_type": "code",
   "execution_count": 24,
   "metadata": {},
   "outputs": [
    {
     "data": {},
     "metadata": {},
     "output_type": "display_data"
    },
    {
     "data": {
      "image/png": "[encoded data removed]",
      "text/plain": [
       "plot without title"
      ]
     },
     "metadata": {},
     "output_type": "display_data"
    }
   ],
   "source": [
    "plot_fit(m6$gam, \"Model 6 (autocor ignored)\")"
   ]
  },
  {
   "cell_type": "markdown",
   "metadata": {},
   "source": [
    "## GAM - modelling autocorrelation in residuals"
   ]
  },
  {
   "cell_type": "markdown",
   "metadata": {},
   "source": [
    "Starting from model 6"
   ]
  },
  {
   "cell_type": "code",
   "execution_count": 51,
   "metadata": {},
   "outputs": [
    {
     "name": "stdout",
     "output_type": "stream",
     "text": [
      "\n",
      " Maximum number of PQL iterations:  20 \n"
     ]
    },
    {
     "name": "stderr",
     "output_type": "stream",
     "text": [
      "iteration 1\n",
      "iteration 2\n",
      "iteration 3\n"
     ]
    },
    {
     "name": "stdout",
     "output_type": "stream",
     "text": [
      "\n",
      " Maximum number of PQL iterations:  20 \n"
     ]
    },
    {
     "name": "stderr",
     "output_type": "stream",
     "text": [
      "iteration 1\n",
      "iteration 2\n",
      "iteration 3\n"
     ]
    },
    {
     "name": "stdout",
     "output_type": "stream",
     "text": [
      "\n",
      " Maximum number of PQL iterations:  20 \n"
     ]
    },
    {
     "name": "stderr",
     "output_type": "stream",
     "text": [
      "iteration 1\n",
      "iteration 2\n",
      "iteration 3\n"
     ]
    },
    {
     "name": "stdout",
     "output_type": "stream",
     "text": [
      "\n",
      " Maximum number of PQL iterations:  20 \n"
     ]
    },
    {
     "name": "stderr",
     "output_type": "stream",
     "text": [
      "iteration 1\n",
      "iteration 2\n",
      "iteration 3\n"
     ]
    }
   ],
   "source": [
    "m6 <- gamm(total_atten_.4hr ~s(mth, k = 12) + s(yr, k=6) \n",
    "           + dtoc_total, \n",
    "           data=dtoc,\n",
    "           family=\"poisson\")\n",
    "\n",
    "m6_p1 <- gamm(total_atten_.4hr ~s(mth, k = 12) + s(yr, k=6) \n",
    "           + dtoc_total, \n",
    "           data=dtoc,\n",
    "           correlation = corARMA(form = ~ 1, p = 1),\n",
    "           family=\"poisson\")\n",
    "\n",
    "\n",
    "m6_p2 <- gamm(total_atten_.4hr ~s(mth, k = 12) + s(yr, k=6) \n",
    "           + dtoc_total, \n",
    "           data=dtoc,\n",
    "           correlation = corARMA(form = ~ 1|yr, p = 2),\n",
    "             family = \"poisson\")\n",
    "\n",
    "m6_q1 <- gamm(total_atten_.4hr ~s(mth, k = 12) + s(yr, k=6) \n",
    "           , \n",
    "           data=dtoc,\n",
    "           correlation = corARMA(form = ~ 1|yr, p = 1, q = 1),\n",
    "             family = \"poisson\")\n"
   ]
  },
  {
   "cell_type": "code",
   "execution_count": 93,
   "metadata": {},
   "outputs": [
    {
     "name": "stdout",
     "output_type": "stream",
     "text": [
      "\n",
      " Maximum number of PQL iterations:  20 \n"
     ]
    },
    {
     "name": "stderr",
     "output_type": "stream",
     "text": [
      "iteration 1\n",
      "iteration 2\n"
     ]
    }
   ],
   "source": [
    "m6_q1 <- gamm(total_atten_.4hr ~s(mth, k = 3) + s(yr, k=6) \n",
    "           + dtoc_total \n",
    "           + total_admissions\n",
    "           + total_atten_t1, \n",
    "           data=dtoc,\n",
    "           correlation = corARMA(form = ~1|yr, q = 1),\n",
    "             family = \"poisson\")"
   ]
  },
  {
   "cell_type": "code",
   "execution_count": 27,
   "metadata": {},
   "outputs": [],
   "source": [
    "#anova(m6$lme, m6_p1$lme, m6_p2$lme)"
   ]
  },
  {
   "cell_type": "markdown",
   "metadata": {},
   "source": [
    "Conclusion - AR(1) has small, but sig improvement in AIC and BIC."
   ]
  },
  {
   "cell_type": "code",
   "execution_count": 94,
   "metadata": {},
   "outputs": [
    {
     "data": {
      "text/plain": [
       "\n",
       "Family: poisson \n",
       "Link function: log \n",
       "\n",
       "Formula:\n",
       "total_atten_.4hr ~ s(mth, k = 3) + s(yr, k = 6) + dtoc_total + \n",
       "    total_admissions + total_atten_t1\n",
       "\n",
       "Parametric coefficients:\n",
       "                   Estimate Std. Error t value Pr(>|t|)    \n",
       "(Intercept)       1.014e+01  1.222e-02  829.70   <2e-16 ***\n",
       "dtoc_total        2.149e-05  1.246e-06   17.24   <2e-16 ***\n",
       "total_admissions -7.384e-06  6.107e-08 -120.91   <2e-16 ***\n",
       "total_atten_t1    3.785e-06  1.857e-08  203.84   <2e-16 ***\n",
       "---\n",
       "Signif. codes:  0 '***' 0.001 '**' 0.01 '*' 0.05 '.' 0.1 ' ' 1\n",
       "\n",
       "Approximate significance of smooth terms:\n",
       "         edf Ref.df     F p-value    \n",
       "s(mth) 2.000  2.000 71908  <2e-16 ***\n",
       "s(yr)  4.995  4.995 41514  <2e-16 ***\n",
       "---\n",
       "Signif. codes:  0 '***' 0.001 '**' 0.01 '*' 0.05 '.' 0.1 ' ' 1\n",
       "\n",
       "R-sq.(adj) =  0.928   \n",
       "  Scale est. = 1         n = 80"
      ]
     },
     "metadata": {},
     "output_type": "display_data"
    },
    {
     "data": {
      "text/html": [
       "<table>\n",
       "<thead><tr><th></th><th scope=col>2.5 %</th><th scope=col>97.5 %</th></tr></thead>\n",
       "<tbody>\n",
       "\t<tr><th scope=row>(Intercept)</th><td> 1.011423e+01</td><td> 1.016213e+01</td></tr>\n",
       "\t<tr><th scope=row>dtoc_total</th><td> 1.904895e-05</td><td> 2.393494e-05</td></tr>\n",
       "\t<tr><th scope=row>total_admissions</th><td>-7.504056e-06</td><td>-7.264659e-06</td></tr>\n",
       "\t<tr><th scope=row>total_atten_t1</th><td> 3.748283e-06</td><td> 3.821063e-06</td></tr>\n",
       "\t<tr><th scope=row>s(mth).1</th><td>-1.179333e+00</td><td>-1.166591e+00</td></tr>\n",
       "\t<tr><th scope=row>s(mth).2</th><td>-5.341483e-02</td><td>-5.196527e-02</td></tr>\n",
       "\t<tr><th scope=row>s(yr).1</th><td> 6.642761e-02</td><td> 7.701979e-02</td></tr>\n",
       "\t<tr><th scope=row>s(yr).2</th><td>-8.400583e-02</td><td>-5.996668e-02</td></tr>\n",
       "\t<tr><th scope=row>s(yr).3</th><td>-4.533252e-02</td><td>-3.737090e-02</td></tr>\n",
       "\t<tr><th scope=row>s(yr).4</th><td>-1.269816e-01</td><td>-9.651291e-02</td></tr>\n",
       "\t<tr><th scope=row>s(yr).5</th><td> 4.143801e-01</td><td> 4.282615e-01</td></tr>\n",
       "</tbody>\n",
       "</table>\n"
      ],
      "text/latex": [
       "\\begin{tabular}{r|ll}\n",
       "  & 2.5 \\% & 97.5 \\%\\\\\n",
       "\\hline\n",
       "\t(Intercept) &  1.011423e+01 &  1.016213e+01\\\\\n",
       "\tdtoc\\_total &  1.904895e-05 &  2.393494e-05\\\\\n",
       "\ttotal\\_admissions & -7.504056e-06 & -7.264659e-06\\\\\n",
       "\ttotal\\_atten\\_t1 &  3.748283e-06 &  3.821063e-06\\\\\n",
       "\ts(mth).1 & -1.179333e+00 & -1.166591e+00\\\\\n",
       "\ts(mth).2 & -5.341483e-02 & -5.196527e-02\\\\\n",
       "\ts(yr).1 &  6.642761e-02 &  7.701979e-02\\\\\n",
       "\ts(yr).2 & -8.400583e-02 & -5.996668e-02\\\\\n",
       "\ts(yr).3 & -4.533252e-02 & -3.737090e-02\\\\\n",
       "\ts(yr).4 & -1.269816e-01 & -9.651291e-02\\\\\n",
       "\ts(yr).5 &  4.143801e-01 &  4.282615e-01\\\\\n",
       "\\end{tabular}\n"
      ],
      "text/markdown": [
       "\n",
       "| <!--/--> | 2.5 % | 97.5 % | \n",
       "|---|---|---|---|---|---|---|---|---|---|---|\n",
       "| (Intercept) |  1.011423e+01 |  1.016213e+01 | \n",
       "| dtoc_total |  1.904895e-05 |  2.393494e-05 | \n",
       "| total_admissions | -7.504056e-06 | -7.264659e-06 | \n",
       "| total_atten_t1 |  3.748283e-06 |  3.821063e-06 | \n",
       "| s(mth).1 | -1.179333e+00 | -1.166591e+00 | \n",
       "| s(mth).2 | -5.341483e-02 | -5.196527e-02 | \n",
       "| s(yr).1 |  6.642761e-02 |  7.701979e-02 | \n",
       "| s(yr).2 | -8.400583e-02 | -5.996668e-02 | \n",
       "| s(yr).3 | -4.533252e-02 | -3.737090e-02 | \n",
       "| s(yr).4 | -1.269816e-01 | -9.651291e-02 | \n",
       "| s(yr).5 |  4.143801e-01 |  4.282615e-01 | \n",
       "\n",
       "\n"
      ],
      "text/plain": [
       "                 2.5 %         97.5 %       \n",
       "(Intercept)       1.011423e+01  1.016213e+01\n",
       "dtoc_total        1.904895e-05  2.393494e-05\n",
       "total_admissions -7.504056e-06 -7.264659e-06\n",
       "total_atten_t1    3.748283e-06  3.821063e-06\n",
       "s(mth).1         -1.179333e+00 -1.166591e+00\n",
       "s(mth).2         -5.341483e-02 -5.196527e-02\n",
       "s(yr).1           6.642761e-02  7.701979e-02\n",
       "s(yr).2          -8.400583e-02 -5.996668e-02\n",
       "s(yr).3          -4.533252e-02 -3.737090e-02\n",
       "s(yr).4          -1.269816e-01 -9.651291e-02\n",
       "s(yr).5           4.143801e-01  4.282615e-01"
      ]
     },
     "metadata": {},
     "output_type": "display_data"
    }
   ],
   "source": [
    "x = summary(m6_q1$gam)\n",
    "x\n",
    "confint(m6_q1$gam)"
   ]
  },
  {
   "cell_type": "code",
   "execution_count": 95,
   "metadata": {},
   "outputs": [
    {
     "data": {},
     "metadata": {},
     "output_type": "display_data"
    },
    {
     "data": {
      "image/png": "[encoded data removed]",
      "text/plain": [
       "plot without title"
      ]
     },
     "metadata": {},
     "output_type": "display_data"
    }
   ],
   "source": [
    "plot_fit(m6_q1$gam, \"Model 6 with MA(1)\")"
   ]
  },
  {
   "cell_type": "code",
   "execution_count": 96,
   "metadata": {
    "scrolled": true
   },
   "outputs": [
    {
     "name": "stdout",
     "output_type": "stream",
     "text": [
      "\n",
      "'gamm' based fit - care required with interpretation.\n",
      "Checks based on working residuals may be misleading.\n",
      "Basis dimension (k) checking results. Low p-value (k-index<1) may\n",
      "indicate that k is too low, especially if edf is close to k'.\n",
      "\n",
      "       k' edf k-index p-value   \n",
      "s(mth)  2   2    1.16   0.885   \n",
      "s(yr)   5   5    0.64   0.005 **\n",
      "---\n",
      "Signif. codes:  0 '***' 0.001 '**' 0.01 '*' 0.05 '.' 0.1 ' ' 1\n"
     ]
    },
    {
     "data": {
      "image/png": "[encoded data removed]",
      "text/plain": [
       "Plot with title \"Response vs. Fitted Values\""
      ]
     },
     "metadata": {},
     "output_type": "display_data"
    }
   ],
   "source": [
    "gam.check(m6_q1$gam)"
   ]
  },
  {
   "cell_type": "code",
   "execution_count": 37,
   "metadata": {},
   "outputs": [],
   "source": [
    "tmp <- tempfile()\n",
    "download.file(\"https://github.com/gavinsimpson/random_code/raw/master/derivFun.R\",\n",
    "              tmp)\n",
    "source(tmp)\n",
    "tmp <- tempfile()\n",
    "download.file(\"https://github.com/gavinsimpson/random_code/raw/master/tsDiagGamm.R\",\n",
    "              tmp)\n",
    "source(tmp)\n",
    "\n"
   ]
  },
  {
   "cell_type": "markdown",
   "metadata": {},
   "source": [
    "### Diagnostics of Model 6 with AR(1)"
   ]
  },
  {
   "cell_type": "code",
   "execution_count": 97,
   "metadata": {},
   "outputs": [
    {
     "data": {
      "image/png": "[encoded data removed]",
      "text/plain": [
       "Plot with title \"ACF of Residuals\""
      ]
     },
     "metadata": {},
     "output_type": "display_data"
    }
   ],
   "source": [
    "with(dtoc, tsDiagGamm(m6_q1, timevar = time, observed = total_atten_.4hr))\n"
   ]
  },
  {
   "cell_type": "code",
   "execution_count": 98,
   "metadata": {},
   "outputs": [
    {
     "data": {
      "image/png": "[encoded data removed]",
      "text/plain": [
       "Plot with title \"pACF of model 6 with MA(1)\""
      ]
     },
     "metadata": {},
     "output_type": "display_data"
    }
   ],
   "source": [
    "\n",
    "par(mfrow=c(2,2))\n",
    "acf(resid(m6$lme, type = \"normalized\"), lag.max = 48, main = \"pACF of model 6\")\n",
    "acf(resid(m6_q1$lme, type = \"normalized\"), lag.max = 48, main = \"pACF of model 6 with MA(1)\")\n",
    "pacf(resid(m6$lme, type = \"normalized\"), lag.max = 48, main = \"pACF of model 6\")\n",
    "pacf(resid(m6_q1$lme, type = \"normalized\"), lag.max = 48, main = \"pACF of model 6 with MA(1)\")\n"
   ]
  },
  {
   "cell_type": "code",
   "execution_count": 72,
   "metadata": {},
   "outputs": [
    {
     "data": {
      "text/html": [
       "<strong>ar1:</strong> 0.499864651053822"
      ],
      "text/latex": [
       "\\textbf{ar1:} 0.499864651053822"
      ],
      "text/markdown": [
       "**ar1:** 0.499864651053822"
      ],
      "text/plain": [
       "      ar1 \n",
       "0.4998647 "
      ]
     },
     "metadata": {},
     "output_type": "display_data"
    }
   ],
   "source": [
    "library(forecast)\n",
    "arma_res <- auto.arima(resid(m6$lme, type = \"normalized\"),\n",
    "                       stationary = TRUE, seasonal = FALSE)\n",
    " \n",
    "arma_res$coef"
   ]
  },
  {
   "cell_type": "code",
   "execution_count": null,
   "metadata": {
    "collapsed": true
   },
   "outputs": [],
   "source": []
  }
 ],
 "metadata": {
  "kernelspec": {
   "display_name": "R",
   "language": "R",
   "name": "ir"
  },
  "language_info": {
   "codemirror_mode": "r",
   "file_extension": ".r",
   "mimetype": "text/x-r-source",
   "name": "R",
   "pygments_lexer": "r",
   "version": "3.4.3"
  }
 },
 "nbformat": 4,
 "nbformat_minor": 2
}
