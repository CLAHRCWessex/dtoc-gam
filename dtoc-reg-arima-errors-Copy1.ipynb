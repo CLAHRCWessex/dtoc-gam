{
 "cells": [
  {
   "cell_type": "markdown",
   "metadata": {},
   "source": [
    "# ARIMA analysis of dtoc time and breaches time series"
   ]
  },
  {
   "cell_type": "code",
   "execution_count": 371,
   "metadata": {},
   "outputs": [],
   "source": [
    "library(TSA)\n",
    "library(car)\n",
    "library(data.table)\n",
    "library(ggplot2)\n",
    "library(LSTS)\n",
    "library(tseries)"
   ]
  },
  {
   "cell_type": "code",
   "execution_count": 232,
   "metadata": {},
   "outputs": [
    {
     "name": "stderr",
     "output_type": "stream",
     "text": [
      "Installing package into '\\\\filestore.soton.ac.uk/users/tm3y13/mydocuments/R/win-library/3.4'\n",
      "(as 'lib' is unspecified)\n"
     ]
    },
    {
     "name": "stdout",
     "output_type": "stream",
     "text": [
      "package 'LSTS' successfully unpacked and MD5 sums checked\n",
      "\n",
      "The downloaded binary packages are in\n",
      "\tC:\\Users\\tm3y13\\AppData\\Local\\Temp\\RtmpUZuDCd\\downloaded_packages\n"
     ]
    }
   ],
   "source": [
    "#install.packages('LSTS', repos='http://cran.us.r-project.org')"
   ]
  },
  {
   "cell_type": "code",
   "execution_count": 7,
   "metadata": {},
   "outputs": [
    {
     "data": {
      "text/html": [
       "<table>\n",
       "<thead><tr><th scope=col>year</th><th scope=col>month</th><th scope=col>total_atten</th><th scope=col>total_atten_t1</th><th scope=col>total_atten_.4hr</th><th scope=col>X95._targ</th><th scope=col>total_admissions</th><th scope=col>dtoc_a</th><th scope=col>dtoc_na</th><th scope=col>dtoc_total</th><th scope=col>mth</th><th scope=col>time</th><th scope=col>yr</th></tr></thead>\n",
       "<tbody>\n",
       "\t<tr><td>2010-11  </td><td>August   </td><td>1719197  </td><td>1138652  </td><td>33184    </td><td>0.9806980</td><td>425702.0 </td><td>2559     </td><td>2381     </td><td>4940     </td><td> 8       </td><td>1        </td><td>2010     </td></tr>\n",
       "\t<tr><td>2010-11  </td><td>September</td><td>1715117  </td><td>1150728  </td><td>41151    </td><td>0.9760069</td><td>424900.0 </td><td>2647     </td><td>2357     </td><td>5004     </td><td> 9       </td><td>2        </td><td>2010     </td></tr>\n",
       "\t<tr><td>2010-11  </td><td>October  </td><td>1753934  </td><td>1163143  </td><td>47414    </td><td>0.9729671</td><td>436215.0 </td><td>2513     </td><td>2075     </td><td>4588     </td><td>10       </td><td>3        </td><td>2010     </td></tr>\n",
       "\t<tr><td>2010-11  </td><td>November </td><td>1604591  </td><td>1111295  </td><td>46436    </td><td>0.9710603</td><td>429099.0 </td><td>2352     </td><td>2057     </td><td>4409     </td><td>11       </td><td>4        </td><td>2010     </td></tr>\n",
       "\t<tr><td>2010-11  </td><td>December </td><td>1647824  </td><td>1159204  </td><td>89917    </td><td>0.9454327</td><td>452728.7 </td><td>1995     </td><td>1866     </td><td>3861     </td><td>12       </td><td>5        </td><td>2010     </td></tr>\n",
       "\t<tr><td>2010-11  </td><td>January  </td><td>1654907  </td><td>1133881  </td><td>72889    </td><td>0.9559557</td><td>442003.7 </td><td>2563     </td><td>2034     </td><td>4597     </td><td> 1       </td><td>6        </td><td>2010     </td></tr>\n",
       "</tbody>\n",
       "</table>\n"
      ],
      "text/latex": [
       "\\begin{tabular}{r|lllllllllllll}\n",
       " year & month & total\\_atten & total\\_atten\\_t1 & total\\_atten\\_.4hr & X95.\\_targ & total\\_admissions & dtoc\\_a & dtoc\\_na & dtoc\\_total & mth & time & yr\\\\\n",
       "\\hline\n",
       "\t 2010-11   & August    & 1719197   & 1138652   & 33184     & 0.9806980 & 425702.0  & 2559      & 2381      & 4940      &  8        & 1         & 2010     \\\\\n",
       "\t 2010-11   & September & 1715117   & 1150728   & 41151     & 0.9760069 & 424900.0  & 2647      & 2357      & 5004      &  9        & 2         & 2010     \\\\\n",
       "\t 2010-11   & October   & 1753934   & 1163143   & 47414     & 0.9729671 & 436215.0  & 2513      & 2075      & 4588      & 10        & 3         & 2010     \\\\\n",
       "\t 2010-11   & November  & 1604591   & 1111295   & 46436     & 0.9710603 & 429099.0  & 2352      & 2057      & 4409      & 11        & 4         & 2010     \\\\\n",
       "\t 2010-11   & December  & 1647824   & 1159204   & 89917     & 0.9454327 & 452728.7  & 1995      & 1866      & 3861      & 12        & 5         & 2010     \\\\\n",
       "\t 2010-11   & January   & 1654907   & 1133881   & 72889     & 0.9559557 & 442003.7  & 2563      & 2034      & 4597      &  1        & 6         & 2010     \\\\\n",
       "\\end{tabular}\n"
      ],
      "text/markdown": [
       "\n",
       "year | month | total_atten | total_atten_t1 | total_atten_.4hr | X95._targ | total_admissions | dtoc_a | dtoc_na | dtoc_total | mth | time | yr | \n",
       "|---|---|---|---|---|---|\n",
       "| 2010-11   | August    | 1719197   | 1138652   | 33184     | 0.9806980 | 425702.0  | 2559      | 2381      | 4940      |  8        | 1         | 2010      | \n",
       "| 2010-11   | September | 1715117   | 1150728   | 41151     | 0.9760069 | 424900.0  | 2647      | 2357      | 5004      |  9        | 2         | 2010      | \n",
       "| 2010-11   | October   | 1753934   | 1163143   | 47414     | 0.9729671 | 436215.0  | 2513      | 2075      | 4588      | 10        | 3         | 2010      | \n",
       "| 2010-11   | November  | 1604591   | 1111295   | 46436     | 0.9710603 | 429099.0  | 2352      | 2057      | 4409      | 11        | 4         | 2010      | \n",
       "| 2010-11   | December  | 1647824   | 1159204   | 89917     | 0.9454327 | 452728.7  | 1995      | 1866      | 3861      | 12        | 5         | 2010      | \n",
       "| 2010-11   | January   | 1654907   | 1133881   | 72889     | 0.9559557 | 442003.7  | 2563      | 2034      | 4597      |  1        | 6         | 2010      | \n",
       "\n",
       "\n"
      ],
      "text/plain": [
       "  year    month     total_atten total_atten_t1 total_atten_.4hr X95._targ\n",
       "1 2010-11 August    1719197     1138652        33184            0.9806980\n",
       "2 2010-11 September 1715117     1150728        41151            0.9760069\n",
       "3 2010-11 October   1753934     1163143        47414            0.9729671\n",
       "4 2010-11 November  1604591     1111295        46436            0.9710603\n",
       "5 2010-11 December  1647824     1159204        89917            0.9454327\n",
       "6 2010-11 January   1654907     1133881        72889            0.9559557\n",
       "  total_admissions dtoc_a dtoc_na dtoc_total mth time yr  \n",
       "1 425702.0         2559   2381    4940        8  1    2010\n",
       "2 424900.0         2647   2357    5004        9  2    2010\n",
       "3 436215.0         2513   2075    4588       10  3    2010\n",
       "4 429099.0         2352   2057    4409       11  4    2010\n",
       "5 452728.7         1995   1866    3861       12  5    2010\n",
       "6 442003.7         2563   2034    4597        1  6    2010"
      ]
     },
     "metadata": {},
     "output_type": "display_data"
    }
   ],
   "source": [
    "dtoc = read.csv(\"input/dtoc.csv\")\n",
    "dtoc$yr = as.numeric(substr(dtoc$year, 1, 4))\n"
   ]
  },
  {
   "cell_type": "code",
   "execution_count": 9,
   "metadata": {},
   "outputs": [],
   "source": [
    "dtoc['ln_breaches'] = log(dtoc['total_atten_.4hr'])"
   ]
  },
  {
   "cell_type": "code",
   "execution_count": 10,
   "metadata": {},
   "outputs": [
    {
     "data": {
      "text/html": [
       "<table>\n",
       "<thead><tr><th scope=col>year</th><th scope=col>month</th><th scope=col>total_atten</th><th scope=col>total_atten_t1</th><th scope=col>total_atten_.4hr</th><th scope=col>X95._targ</th><th scope=col>total_admissions</th><th scope=col>dtoc_a</th><th scope=col>dtoc_na</th><th scope=col>dtoc_total</th><th scope=col>mth</th><th scope=col>time</th><th scope=col>yr</th><th scope=col>ln_breaches</th></tr></thead>\n",
       "<tbody>\n",
       "\t<tr><td>2010-11  </td><td>August   </td><td>1719197  </td><td>1138652  </td><td>33184    </td><td>0.9806980</td><td>425702.0 </td><td>2559     </td><td>2381     </td><td>4940     </td><td> 8       </td><td>1        </td><td>2010     </td><td>10.40982 </td></tr>\n",
       "\t<tr><td>2010-11  </td><td>September</td><td>1715117  </td><td>1150728  </td><td>41151    </td><td>0.9760069</td><td>424900.0 </td><td>2647     </td><td>2357     </td><td>5004     </td><td> 9       </td><td>2        </td><td>2010     </td><td>10.62500 </td></tr>\n",
       "\t<tr><td>2010-11  </td><td>October  </td><td>1753934  </td><td>1163143  </td><td>47414    </td><td>0.9729671</td><td>436215.0 </td><td>2513     </td><td>2075     </td><td>4588     </td><td>10       </td><td>3        </td><td>2010     </td><td>10.76667 </td></tr>\n",
       "\t<tr><td>2010-11  </td><td>November </td><td>1604591  </td><td>1111295  </td><td>46436    </td><td>0.9710603</td><td>429099.0 </td><td>2352     </td><td>2057     </td><td>4409     </td><td>11       </td><td>4        </td><td>2010     </td><td>10.74583 </td></tr>\n",
       "\t<tr><td>2010-11  </td><td>December </td><td>1647824  </td><td>1159204  </td><td>89917    </td><td>0.9454327</td><td>452728.7 </td><td>1995     </td><td>1866     </td><td>3861     </td><td>12       </td><td>5        </td><td>2010     </td><td>11.40664 </td></tr>\n",
       "\t<tr><td>2010-11  </td><td>January  </td><td>1654907  </td><td>1133881  </td><td>72889    </td><td>0.9559557</td><td>442003.7 </td><td>2563     </td><td>2034     </td><td>4597     </td><td> 1       </td><td>6        </td><td>2010     </td><td>11.19669 </td></tr>\n",
       "</tbody>\n",
       "</table>\n"
      ],
      "text/latex": [
       "\\begin{tabular}{r|llllllllllllll}\n",
       " year & month & total\\_atten & total\\_atten\\_t1 & total\\_atten\\_.4hr & X95.\\_targ & total\\_admissions & dtoc\\_a & dtoc\\_na & dtoc\\_total & mth & time & yr & ln\\_breaches\\\\\n",
       "\\hline\n",
       "\t 2010-11   & August    & 1719197   & 1138652   & 33184     & 0.9806980 & 425702.0  & 2559      & 2381      & 4940      &  8        & 1         & 2010      & 10.40982 \\\\\n",
       "\t 2010-11   & September & 1715117   & 1150728   & 41151     & 0.9760069 & 424900.0  & 2647      & 2357      & 5004      &  9        & 2         & 2010      & 10.62500 \\\\\n",
       "\t 2010-11   & October   & 1753934   & 1163143   & 47414     & 0.9729671 & 436215.0  & 2513      & 2075      & 4588      & 10        & 3         & 2010      & 10.76667 \\\\\n",
       "\t 2010-11   & November  & 1604591   & 1111295   & 46436     & 0.9710603 & 429099.0  & 2352      & 2057      & 4409      & 11        & 4         & 2010      & 10.74583 \\\\\n",
       "\t 2010-11   & December  & 1647824   & 1159204   & 89917     & 0.9454327 & 452728.7  & 1995      & 1866      & 3861      & 12        & 5         & 2010      & 11.40664 \\\\\n",
       "\t 2010-11   & January   & 1654907   & 1133881   & 72889     & 0.9559557 & 442003.7  & 2563      & 2034      & 4597      &  1        & 6         & 2010      & 11.19669 \\\\\n",
       "\\end{tabular}\n"
      ],
      "text/markdown": [
       "\n",
       "year | month | total_atten | total_atten_t1 | total_atten_.4hr | X95._targ | total_admissions | dtoc_a | dtoc_na | dtoc_total | mth | time | yr | ln_breaches | \n",
       "|---|---|---|---|---|---|\n",
       "| 2010-11   | August    | 1719197   | 1138652   | 33184     | 0.9806980 | 425702.0  | 2559      | 2381      | 4940      |  8        | 1         | 2010      | 10.40982  | \n",
       "| 2010-11   | September | 1715117   | 1150728   | 41151     | 0.9760069 | 424900.0  | 2647      | 2357      | 5004      |  9        | 2         | 2010      | 10.62500  | \n",
       "| 2010-11   | October   | 1753934   | 1163143   | 47414     | 0.9729671 | 436215.0  | 2513      | 2075      | 4588      | 10        | 3         | 2010      | 10.76667  | \n",
       "| 2010-11   | November  | 1604591   | 1111295   | 46436     | 0.9710603 | 429099.0  | 2352      | 2057      | 4409      | 11        | 4         | 2010      | 10.74583  | \n",
       "| 2010-11   | December  | 1647824   | 1159204   | 89917     | 0.9454327 | 452728.7  | 1995      | 1866      | 3861      | 12        | 5         | 2010      | 11.40664  | \n",
       "| 2010-11   | January   | 1654907   | 1133881   | 72889     | 0.9559557 | 442003.7  | 2563      | 2034      | 4597      |  1        | 6         | 2010      | 11.19669  | \n",
       "\n",
       "\n"
      ],
      "text/plain": [
       "  year    month     total_atten total_atten_t1 total_atten_.4hr X95._targ\n",
       "1 2010-11 August    1719197     1138652        33184            0.9806980\n",
       "2 2010-11 September 1715117     1150728        41151            0.9760069\n",
       "3 2010-11 October   1753934     1163143        47414            0.9729671\n",
       "4 2010-11 November  1604591     1111295        46436            0.9710603\n",
       "5 2010-11 December  1647824     1159204        89917            0.9454327\n",
       "6 2010-11 January   1654907     1133881        72889            0.9559557\n",
       "  total_admissions dtoc_a dtoc_na dtoc_total mth time yr   ln_breaches\n",
       "1 425702.0         2559   2381    4940        8  1    2010 10.40982   \n",
       "2 424900.0         2647   2357    5004        9  2    2010 10.62500   \n",
       "3 436215.0         2513   2075    4588       10  3    2010 10.76667   \n",
       "4 429099.0         2352   2057    4409       11  4    2010 10.74583   \n",
       "5 452728.7         1995   1866    3861       12  5    2010 11.40664   \n",
       "6 442003.7         2563   2034    4597        1  6    2010 11.19669   "
      ]
     },
     "metadata": {},
     "output_type": "display_data"
    }
   ],
   "source": [
    "head(dtoc)"
   ]
  },
  {
   "cell_type": "markdown",
   "metadata": {},
   "source": [
    "## Initial time series plots"
   ]
  },
  {
   "cell_type": "markdown",
   "metadata": {},
   "source": [
    "Breaches and DToCs: Plots before and after taking natural log"
   ]
  },
  {
   "cell_type": "code",
   "execution_count": 13,
   "metadata": {},
   "outputs": [
    {
     "data": {
      "image/png": "[encoded data removed]",
      "text/plain": [
       "plot without title"
      ]
     },
     "metadata": {},
     "output_type": "display_data"
    }
   ],
   "source": [
    "par(mfrow=c(2,2))\n",
    "\n",
    "plot.ts(ts(dtoc$total_atten_.4hr),xy.lines=F,xy.labels=F) #  (increasing variance)\n",
    "plot.ts(ts(dtoc$dtoc_total),xy.lines=F,xy.labels=F)\n",
    "\n",
    "plot.ts(ts(dtoc$ln_breaches),xy.lines=F,xy.labels=F) #  (increasing variance)\n",
    "plot.ts(ts(log(dtoc$dtoc_total)),xy.lines=F,xy.labels=F)"
   ]
  },
  {
   "cell_type": "markdown",
   "metadata": {},
   "source": [
    "Stationarity - take first difference then plot and apply dickey fuller"
   ]
  },
  {
   "cell_type": "code",
   "execution_count": 109,
   "metadata": {},
   "outputs": [
    {
     "data": {
      "image/png": "[encoded data removed]",
      "text/plain": [
       "plot without title"
      ]
     },
     "metadata": {},
     "output_type": "display_data"
    }
   ],
   "source": [
    "par(mfrow=c(2,1))\n",
    "\n",
    "plot.ts(ts(diff(log(dtoc$total_atten_.4hr))),xy.lines=F,xy.labels=F,\n",
    "       ylab=\"1st diff of breaches\") #  (increasing variance)\n",
    "plot.ts(ts(diff(log(dtoc$dtoc_total))),xy.lines=F,xy.labels=F,\n",
    "       ylab=\"1st diff of dtocs\")\n"
   ]
  },
  {
   "cell_type": "markdown",
   "metadata": {},
   "source": [
    "Both series 'appear' stationary, but appear to have seasonal patterns.  Check ACF and PACF"
   ]
  },
  {
   "cell_type": "code",
   "execution_count": 113,
   "metadata": {},
   "outputs": [
    {
     "data": {
      "image/png": "[encoded data removed]",
      "text/plain": [
       "Plot with title \"Deseasonalised log(breaches)\""
      ]
     },
     "metadata": {},
     "output_type": "display_data"
    }
   ],
   "source": [
    "par(mfrow=c(2,2))\n",
    "acf(diff(log(dtoc$dtoc_total)), lag.max = 48, main = \"ACF log(DToC Total)\")\n",
    "acf(diff(log(dtoc$total_atten_.4hr)), lag.max = 48, main = \"ACF log(breaches)\")\n",
    "\n",
    "acf(diff(diff(log(dtoc$dtoc_total), 12)), lag.max = 48, main = \"Deseasonalised log(DToC Total)\")\n",
    "acf(diff(diff(log(dtoc$total_atten_.4hr),12)), lag.max = 48, main = \"Deseasonalised log(breaches)\")"
   ]
  },
  {
   "cell_type": "markdown",
   "metadata": {},
   "source": [
    "Strong seasonal spikes at multiples of lag 12.  This look better after 1st seasonal diff. Conclusion.  Take seasonal difference"
   ]
  },
  {
   "cell_type": "markdown",
   "metadata": {},
   "source": [
    "## Initital ARIMA modelling.  Breaches"
   ]
  },
  {
   "cell_type": "markdown",
   "metadata": {},
   "source": [
    "breaches\n",
    "tentative models: \n",
    "\n",
    "1. arima(1,1,0).(0,1,0)\n",
    "2. arima(0,1,2).(0,1,0)\n",
    "3. arima(1,1,1).(1,1,0)"
   ]
  },
  {
   "cell_type": "code",
   "execution_count": 156,
   "metadata": {},
   "outputs": [
    {
     "data": {
      "text/plain": [
       "\n",
       "Call:\n",
       "arima(x = log(dtoc$total_atten_.4hr), order = c(1, 1, 0), seasonal = list(order = c(0, \n",
       "    1, 0), period = 12))\n",
       "\n",
       "Coefficients:\n",
       "          ar1\n",
       "      -0.0692\n",
       "s.e.   0.1218\n",
       "\n",
       "sigma^2 estimated as 0.05228:  log likelihood = 3.79,  aic = -5.59"
      ]
     },
     "metadata": {},
     "output_type": "display_data"
    },
    {
     "data": {
      "text/plain": [
       "\n",
       "Call:\n",
       "arima(x = log(dtoc$total_atten_.4hr), order = c(0, 1, 2), seasonal = list(order = c(0, \n",
       "    1, 0), period = 12))\n",
       "\n",
       "Coefficients:\n",
       "          ma1      ma2\n",
       "      -0.1834  -0.4099\n",
       "s.e.   0.1416   0.1638\n",
       "\n",
       "sigma^2 estimated as 0.04452:  log likelihood = 8.94,  aic = -13.89"
      ]
     },
     "metadata": {},
     "output_type": "display_data"
    },
    {
     "data": {
      "text/plain": [
       "\n",
       "Call:\n",
       "arima(x = log(dtoc$total_atten_.4hr), order = c(1, 1, 1), seasonal = list(order = c(1, \n",
       "    1, 0), period = 12))\n",
       "\n",
       "Coefficients:\n",
       "         ar1      ma1     sar1\n",
       "      0.6714  -0.9646  -0.6669\n",
       "s.e.  0.1434   0.0946   0.0893\n",
       "\n",
       "sigma^2 estimated as 0.02452:  log likelihood = 24.69,  aic = -43.39"
      ]
     },
     "metadata": {},
     "output_type": "display_data"
    }
   ],
   "source": [
    "breach.m1 = arima(log(dtoc$total_atten_.4hr), order = c(1,1,0),\n",
    "                 seasonal= list(order = c(0,1,0), period=12)); breach.m1\n",
    "\n",
    "breach.m2 = arima(log(dtoc$total_atten_.4hr), order = c(0,1,2),\n",
    "                 seasonal= list(order = c(0,1,0), period=12)); breach.m2\n",
    "\n",
    "\n",
    "breach.m3 = arima(log(dtoc$total_atten_.4hr), order = c(1,1,1),\n",
    "                 seasonal= list(order = c(1,1,0), period=12)); breach.m3"
   ]
  },
  {
   "cell_type": "code",
   "execution_count": 157,
   "metadata": {},
   "outputs": [
    {
     "data": {
      "image/png": "[encoded data removed]",
      "text/plain": [
       "Plot with title \"Series  breach.m3$residuals\""
      ]
     },
     "metadata": {},
     "output_type": "display_data"
    }
   ],
   "source": [
    "par(mfrow=c(2,1))\n",
    "acf(breach.m3$residuals, lag.max=48)\n",
    "pacf(breach.m3$residuals, lag.max=48)"
   ]
  },
  {
   "cell_type": "markdown",
   "metadata": {},
   "source": [
    "Conclusion - ACF and PACF clear of autocorrelation."
   ]
  },
  {
   "cell_type": "markdown",
   "metadata": {},
   "source": [
    "DTOC - ARIMA modelling"
   ]
  },
  {
   "cell_type": "code",
   "execution_count": 257,
   "metadata": {},
   "outputs": [
    {
     "data": {
      "text/plain": [
       "\n",
       "Call:\n",
       "arima(x = log(dtoc$dtoc_total), order = c(1, 1, 0), seasonal = list(order = c(1, \n",
       "    1, 0), period = 12))\n",
       "\n",
       "Coefficients:\n",
       "          ar1     sar1\n",
       "      -0.2138  -0.4676\n",
       "s.e.   0.1190   0.1161\n",
       "\n",
       "sigma^2 estimated as 0.001225:  log likelihood = 128.03,  aic = -252.05"
      ]
     },
     "metadata": {},
     "output_type": "display_data"
    },
    {
     "data": {
      "text/plain": [
       "\n",
       "Call:\n",
       "arima(x = log(dtoc$dtoc_total), order = c(1, 1, 2), seasonal = list(order = c(1, \n",
       "    1, 0), period = 12))\n",
       "\n",
       "Coefficients:\n",
       "         ar1      ma1     ma2     sar1\n",
       "      0.9932  -1.3185  0.3446  -0.4925\n",
       "s.e.  0.0204   0.1317  0.1259   0.1151\n",
       "\n",
       "sigma^2 estimated as 0.00115:  log likelihood = 129.7,  aic = -251.4"
      ]
     },
     "metadata": {},
     "output_type": "display_data"
    }
   ],
   "source": [
    "dtoc.m1 = arima(log(dtoc$dtoc_total), order = c(1,1,0),\n",
    "                 seasonal= list(order = c(1,1,0), period=12)); dtoc.m1\n",
    "\n",
    "dtoc.m2 = arima(log(dtoc$dtoc_total), order = c(1,1,2),\n",
    "                 seasonal= list(order = c(1,1,0), period=12)); dtoc.m2"
   ]
  },
  {
   "cell_type": "code",
   "execution_count": 238,
   "metadata": {
    "collapsed": true
   },
   "outputs": [],
   "source": [
    "plot_diag <- function(model){\n",
    "    par(mfrow=c(2,1))\n",
    "    acf(model$residuals, lag.max=48)\n",
    "    pacf(model$residuals, lag.max=48)\n",
    "    #library(FitAR)\n",
    "    Box.Ljung.Test(model$residuals, lag = 24)\n",
    "    #boxresult=LjungBoxTest(dtoc.m1$residuals,k=2,StartLag=1)\n",
    "    #plot(boxresult[,3],main= \"Ljung-Box Q Test\", ylab= \"P-values\", xlab= \"Lag\")\n",
    "    qqnorm(model$residuals)\n",
    "    qqline(model$residuals)\n",
    "    }"
   ]
  },
  {
   "cell_type": "code",
   "execution_count": 258,
   "metadata": {},
   "outputs": [
    {
     "data": {
      "image/png": "[encoded data removed]",
      "text/plain": [
       "Plot with title \"Series  model$residuals\""
      ]
     },
     "metadata": {},
     "output_type": "display_data"
    },
    {
     "data": {
      "image/png": "[encoded data removed]",
      "text/plain": [
       "Plot with title \"Normal Q-Q Plot\""
      ]
     },
     "metadata": {},
     "output_type": "display_data"
    }
   ],
   "source": [
    "plot_diag(dtoc.m2)"
   ]
  },
  {
   "cell_type": "code",
   "execution_count": 260,
   "metadata": {},
   "outputs": [
    {
     "data": {
      "text/plain": [
       "\n",
       "z test of coefficients:\n",
       "\n",
       "      Estimate Std. Error  z value  Pr(>|z|)    \n",
       "ar1   0.993166   0.020432  48.6081 < 2.2e-16 ***\n",
       "ma1  -1.318455   0.131717 -10.0097 < 2.2e-16 ***\n",
       "ma2   0.344616   0.125858   2.7381  0.006179 ** \n",
       "sar1 -0.492531   0.115055  -4.2808 1.862e-05 ***\n",
       "---\n",
       "Signif. codes:  0 '***' 0.001 '**' 0.01 '*' 0.05 '.' 0.1 ' ' 1\n"
      ]
     },
     "metadata": {},
     "output_type": "display_data"
    }
   ],
   "source": [
    "#library(lmtest)\n",
    "coeftest(dtoc.m2)"
   ]
  },
  {
   "cell_type": "markdown",
   "metadata": {},
   "source": [
    "Need to check what prewhiten function expects.  Should x be differenced?  Or will filter do that?"
   ]
  },
  {
   "cell_type": "code",
   "execution_count": 266,
   "metadata": {},
   "outputs": [],
   "source": [
    "dtocs = ts(log(dtoc$dtoc_total))\n",
    "breaches = ts(log(dtoc$total_atten_.4hr))"
   ]
  },
  {
   "cell_type": "code",
   "execution_count": 282,
   "metadata": {},
   "outputs": [
    {
     "ename": "ERROR",
     "evalue": "Error in na.omit.ts(as.ts(x)): all times contain an NA\n",
     "output_type": "error",
     "traceback": [
      "Error in na.omit.ts(as.ts(x)): all times contain an NA\nTraceback:\n",
      "1. prewhiten(x = dtocs, y = breaches, x.model = dtoc.m2)",
      "2. ccf(x = x, y = y, na.action = na.omit, ylab = ylab, ...)",
      "3. acf(X, lag.max = lag.max, plot = FALSE, type = type, na.action = na.action)",
      "4. na.action(as.ts(x))",
      "5. na.omit.ts(as.ts(x))",
      "6. stop(\"all times contain an NA\")"
     ]
    }
   ],
   "source": [
    "prewhiten(x = dtocs, y = breaches, x.model = dtoc.m2)"
   ]
  },
  {
   "cell_type": "markdown",
   "metadata": {},
   "source": [
    "Is this an appropraite way to pre-whiten the residuals?"
   ]
  },
  {
   "cell_type": "code",
   "execution_count": 281,
   "metadata": {},
   "outputs": [
    {
     "data": {
      "image/png": "[encoded data removed]",
      "text/plain": [
       "Plot with title \"dtoc.m2$residuals & breach.m3$residuals\""
      ]
     },
     "metadata": {},
     "output_type": "display_data"
    }
   ],
   "source": [
    "x = ccf(x = dtoc.m2$residuals, y = breach.m3$residuals, lag=20, ylab=\"CCF\")\n",
    "\n",
    "#poor ED performance leads higher DTOCs the next month?"
   ]
  },
  {
   "cell_type": "code",
   "execution_count": 273,
   "metadata": {},
   "outputs": [
    {
     "data": {
      "text/html": [
       "<ol class=list-inline>\n",
       "\t<li>0.206215540591168</li>\n",
       "\t<li>0.0609804532768102</li>\n",
       "\t<li>-0.136562271349319</li>\n",
       "\t<li>-0.0883612093818645</li>\n",
       "\t<li>0.0429178284150416</li>\n",
       "\t<li>-0.235438711624397</li>\n",
       "\t<li>-0.101616572273857</li>\n",
       "\t<li>-0.0106409580986836</li>\n",
       "\t<li>-0.195728972585997</li>\n",
       "\t<li>0.00219007211058594</li>\n",
       "\t<li>-0.0875248046411504</li>\n",
       "\t<li>-0.011412525195009</li>\n",
       "\t<li>0.0558837100989309</li>\n",
       "\t<li>0.222347740558994</li>\n",
       "\t<li>-0.0170174119993954</li>\n",
       "\t<li>-0.118867826523338</li>\n",
       "\t<li>0.058295827172602</li>\n",
       "\t<li>0.379082025363548</li>\n",
       "\t<li>0.13469750628486</li>\n",
       "\t<li>-0.145544033453099</li>\n",
       "\t<li>-0.226460403579076</li>\n",
       "\t<li>-0.0289014889659567</li>\n",
       "\t<li>0.0164368360316142</li>\n",
       "\t<li>-0.0308216894608713</li>\n",
       "\t<li>-0.0172333610043583</li>\n",
       "\t<li>-0.250639303419258</li>\n",
       "\t<li>-0.17782161931942</li>\n",
       "\t<li>0.0493178785495749</li>\n",
       "\t<li>-0.173376854246291</li>\n",
       "\t<li>0.0701112270375098</li>\n",
       "\t<li>-0.0739467587997003</li>\n",
       "\t<li>0.101067076127322</li>\n",
       "\t<li>-0.0162150758796766</li>\n",
       "</ol>\n"
      ],
      "text/latex": [
       "\\begin{enumerate*}\n",
       "\\item 0.206215540591168\n",
       "\\item 0.0609804532768102\n",
       "\\item -0.136562271349319\n",
       "\\item -0.0883612093818645\n",
       "\\item 0.0429178284150416\n",
       "\\item -0.235438711624397\n",
       "\\item -0.101616572273857\n",
       "\\item -0.0106409580986836\n",
       "\\item -0.195728972585997\n",
       "\\item 0.00219007211058594\n",
       "\\item -0.0875248046411504\n",
       "\\item -0.011412525195009\n",
       "\\item 0.0558837100989309\n",
       "\\item 0.222347740558994\n",
       "\\item -0.0170174119993954\n",
       "\\item -0.118867826523338\n",
       "\\item 0.058295827172602\n",
       "\\item 0.379082025363548\n",
       "\\item 0.13469750628486\n",
       "\\item -0.145544033453099\n",
       "\\item -0.226460403579076\n",
       "\\item -0.0289014889659567\n",
       "\\item 0.0164368360316142\n",
       "\\item -0.0308216894608713\n",
       "\\item -0.0172333610043583\n",
       "\\item -0.250639303419258\n",
       "\\item -0.17782161931942\n",
       "\\item 0.0493178785495749\n",
       "\\item -0.173376854246291\n",
       "\\item 0.0701112270375098\n",
       "\\item -0.0739467587997003\n",
       "\\item 0.101067076127322\n",
       "\\item -0.0162150758796766\n",
       "\\end{enumerate*}\n"
      ],
      "text/markdown": [
       "1. 0.206215540591168\n",
       "2. 0.0609804532768102\n",
       "3. -0.136562271349319\n",
       "4. -0.0883612093818645\n",
       "5. 0.0429178284150416\n",
       "6. -0.235438711624397\n",
       "7. -0.101616572273857\n",
       "8. -0.0106409580986836\n",
       "9. -0.195728972585997\n",
       "10. 0.00219007211058594\n",
       "11. -0.0875248046411504\n",
       "12. -0.011412525195009\n",
       "13. 0.0558837100989309\n",
       "14. 0.222347740558994\n",
       "15. -0.0170174119993954\n",
       "16. -0.118867826523338\n",
       "17. 0.058295827172602\n",
       "18. 0.379082025363548\n",
       "19. 0.13469750628486\n",
       "20. -0.145544033453099\n",
       "21. -0.226460403579076\n",
       "22. -0.0289014889659567\n",
       "23. 0.0164368360316142\n",
       "24. -0.0308216894608713\n",
       "25. -0.0172333610043583\n",
       "26. -0.250639303419258\n",
       "27. -0.17782161931942\n",
       "28. 0.0493178785495749\n",
       "29. -0.173376854246291\n",
       "30. 0.0701112270375098\n",
       "31. -0.0739467587997003\n",
       "32. 0.101067076127322\n",
       "33. -0.0162150758796766\n",
       "\n",
       "\n"
      ],
      "text/plain": [
       ", , 1\n",
       "\n",
       "              [,1]\n",
       " [1,]  0.206215541\n",
       " [2,]  0.060980453\n",
       " [3,] -0.136562271\n",
       " [4,] -0.088361209\n",
       " [5,]  0.042917828\n",
       " [6,] -0.235438712\n",
       " [7,] -0.101616572\n",
       " [8,] -0.010640958\n",
       " [9,] -0.195728973\n",
       "[10,]  0.002190072\n",
       "[11,] -0.087524805\n",
       "[12,] -0.011412525\n",
       "[13,]  0.055883710\n",
       "[14,]  0.222347741\n",
       "[15,] -0.017017412\n",
       "[16,] -0.118867827\n",
       "[17,]  0.058295827\n",
       "[18,]  0.379082025\n",
       "[19,]  0.134697506\n",
       "[20,] -0.145544033\n",
       "[21,] -0.226460404\n",
       "[22,] -0.028901489\n",
       "[23,]  0.016436836\n",
       "[24,] -0.030821689\n",
       "[25,] -0.017233361\n",
       "[26,] -0.250639303\n",
       "[27,] -0.177821619\n",
       "[28,]  0.049317879\n",
       "[29,] -0.173376854\n",
       "[30,]  0.070111227\n",
       "[31,] -0.073946759\n",
       "[32,]  0.101067076\n",
       "[33,] -0.016215076\n"
      ]
     },
     "metadata": {},
     "output_type": "display_data"
    }
   ],
   "source": [
    "x$acf\n",
    "x"
   ]
  },
  {
   "cell_type": "markdown",
   "metadata": {},
   "source": [
    "Conclusion: take seasonal difference (12 months)"
   ]
  },
  {
   "cell_type": "code",
   "execution_count": 68,
   "metadata": {},
   "outputs": [
    {
     "data": {
      "image/png": "[encoded data removed]",
      "text/plain": [
       "plot without title"
      ]
     },
     "metadata": {},
     "output_type": "display_data"
    }
   ],
   "source": [
    "par(mfrow=c(2,2))\n",
    "\n",
    "plot.ts(ts(log(dtoc$total_atten_.4hr)),xy.lines=F,xy.labels=F) #  (increasing variance)\n",
    "plot.ts(ts(dtoc$dtoc_total),xy.lines=F,xy.labels=F)\n",
    "\n",
    "\n",
    "plot.ts(ts(diff(log(dtoc$total_atten_.4hr))),xy.lines=F,xy.labels=F) #\n",
    "plot.ts(ts(diff(diff(log(dtoc$dtoc_total), 12))),xy.lines=F,xy.labels=F)"
   ]
  },
  {
   "cell_type": "code",
   "execution_count": 167,
   "metadata": {},
   "outputs": [
    {
     "ename": "ERROR",
     "evalue": "Error in na.omit.ts(as.ts(x)): all times contain an NA\n",
     "output_type": "error",
     "traceback": [
      "Error in na.omit.ts(as.ts(x)): all times contain an NA\nTraceback:\n",
      "1. prewhiten(x = log(dtoc$total_atten_.4hr), y = diff(diff(log(dtoc$dtoc_total))), \n .     x.model = breach.m3)",
      "2. ccf(x = x, y = y, na.action = na.omit, ylab = ylab, ...)",
      "3. acf(X, lag.max = lag.max, plot = FALSE, type = type, na.action = na.action)",
      "4. na.action(as.ts(x))",
      "5. na.omit.ts(as.ts(x))",
      "6. stop(\"all times contain an NA\")"
     ]
    }
   ],
   "source": [
    "prewhiten(x = log(dtoc$total_atten_.4hr), y = diff(diff(log(dtoc$dtoc_total))), x.model=breach.m3)"
   ]
  },
  {
   "cell_type": "markdown",
   "metadata": {},
   "source": [
    "Simple and quick prewhitening"
   ]
  },
  {
   "cell_type": "code",
   "execution_count": 168,
   "metadata": {},
   "outputs": [],
   "source": [
    "data.diff = ts.intersect(ts(diff(diff(log(dtoc$total_atten_.4hr), 12))),\n",
    "                             ts(diff(diff(log(dtoc$dtoc_total), 12))))"
   ]
  },
  {
   "cell_type": "code",
   "execution_count": 283,
   "metadata": {},
   "outputs": [
    {
     "data": {
      "image/png": "[encoded data removed]",
      "text/plain": [
       "Plot with title \"x & y\""
      ]
     },
     "metadata": {},
     "output_type": "display_data"
    }
   ],
   "source": [
    "prewhiten(as.vector(data.diff[,1]), as.vector(data.diff[,2]),\n",
    "         ylab='CCF')"
   ]
  },
  {
   "cell_type": "code",
   "execution_count": 289,
   "metadata": {},
   "outputs": [
    {
     "data": {
      "text/plain": [
       "\n",
       "Call:\n",
       "lm(formula = breaches ~ dtocs, data = data.diff)\n",
       "\n",
       "Residuals:\n",
       "     Min       1Q   Median       3Q      Max \n",
       "-1.19443 -0.12911 -0.01013  0.16041  0.78765 \n",
       "\n",
       "Coefficients:\n",
       "            Estimate Std. Error t value Pr(>|t|)    \n",
       "(Intercept)  -7.8267     1.7791  -4.399  3.4e-05 ***\n",
       "dtocs         2.2846     0.2106  10.851  < 2e-16 ***\n",
       "---\n",
       "Signif. codes:  0 '***' 0.001 '**' 0.01 '*' 0.05 '.' 0.1 ' ' 1\n",
       "\n",
       "Residual standard error: 0.3314 on 78 degrees of freedom\n",
       "Multiple R-squared:  0.6015,\tAdjusted R-squared:  0.5964 \n",
       "F-statistic: 117.7 on 1 and 78 DF,  p-value: < 2.2e-16\n"
      ]
     },
     "metadata": {},
     "output_type": "display_data"
    }
   ],
   "source": [
    "data.diff = ts.intersect(ts(log(dtoc$total_atten_.4hr)),\n",
    "                             ts(log(dtoc$dtoc_total)))\n",
    "\n",
    "breaches = data.diff[,1]\n",
    "dtocs = data.diff[,2]\n",
    "m1 = lm(breaches ~ dtocs, data = data.diff)\n",
    "summary(m1)"
   ]
  },
  {
   "cell_type": "code",
   "execution_count": 291,
   "metadata": {
    "scrolled": true
   },
   "outputs": [
    {
     "data": {
      "image/png": "[encoded data removed]",
      "text/plain": [
       "Plot with title \"Series  resid(m1, ci.type = \"normalised\")\""
      ]
     },
     "metadata": {},
     "output_type": "display_data"
    }
   ],
   "source": [
    "par(mfrow=c(2,1))\n",
    "acf(resid(m1, ci.type=\"normalised\"))\n",
    "pacf(resid(m1, ci.type=\"normalised\"))"
   ]
  },
  {
   "cell_type": "code",
   "execution_count": 305,
   "metadata": {},
   "outputs": [
    {
     "data": {
      "text/plain": [
       "\n",
       "Call:\n",
       "arima(x = breaches, order = c(1, 1, 0), seasonal = list(order = c(0, 1, 0), \n",
       "    period = 12), xreg = data.frame(dtocs))\n",
       "\n",
       "Coefficients:\n",
       "          ar1   dtocs\n",
       "      -0.0733  0.2999\n",
       "s.e.   0.1222  0.6981\n",
       "\n",
       "sigma^2 estimated as 0.05213:  log likelihood = 3.89,  aic = -3.77"
      ]
     },
     "metadata": {},
     "output_type": "display_data"
    },
    {
     "data": {
      "text/plain": [
       "\n",
       "Call:\n",
       "arima(x = breaches, order = c(1, 1, 0), seasonal = list(order = c(1, 1, 0), \n",
       "    period = 12), xreg = data.frame(dtocs))\n",
       "\n",
       "Coefficients:\n",
       "          ar1     sar1   dtocs\n",
       "      -0.1116  -0.6837  0.3746\n",
       "s.e.   0.1246   0.0857  0.5964\n",
       "\n",
       "sigma^2 estimated as 0.02769:  log likelihood = 21.29,  aic = -36.59"
      ]
     },
     "metadata": {},
     "output_type": "display_data"
    },
    {
     "data": {
      "text/plain": [
       "\n",
       "Call:\n",
       "arima(x = breaches, order = c(1, 1, 0), seasonal = list(order = c(1, 1, 0), \n",
       "    period = 12), xreg = data.frame(dtocs))\n",
       "\n",
       "Coefficients:\n",
       "          ar1     sar1   dtocs\n",
       "      -0.1116  -0.6837  0.3746\n",
       "s.e.   0.1246   0.0857  0.5964\n",
       "\n",
       "sigma^2 estimated as 0.02769:  log likelihood = 21.29,  aic = -36.59"
      ]
     },
     "metadata": {},
     "output_type": "display_data"
    },
    {
     "data": {
      "text/plain": [
       "\n",
       "Call:\n",
       "arima(x = breaches, order = c(1, 1, 1), seasonal = list(order = c(1, 1, 0), \n",
       "    period = 12), xreg = data.frame(dtocs))\n",
       "\n",
       "Coefficients:\n",
       "         ar1      ma1     sar1   dtocs\n",
       "      0.6170  -1.0000  -0.6724  0.5235\n",
       "s.e.  0.1093   0.0545   0.0885  0.3183\n",
       "\n",
       "sigma^2 estimated as 0.02307:  log likelihood = 25.74,  aic = -43.47"
      ]
     },
     "metadata": {},
     "output_type": "display_data"
    }
   ],
   "source": [
    "m2 = arima(breaches, order=c(1,1,0),\n",
    "           seasonal = list(order =c(0,1,0), period = 12),\n",
    "           xreg=data.frame(dtocs)); m2\n",
    "\n",
    "m3 = arima(breaches, order=c(1,1,0),\n",
    "           seasonal = list(order =c(1,1,0), period = 12),\n",
    "           xreg=data.frame(dtocs)); m3\n",
    "\n",
    "m4 = arima(breaches, order=c(1,1,0),\n",
    "           seasonal = list(order =c(1,1,0), period = 12),\n",
    "           xreg=data.frame(dtocs)); m4\n",
    "\n",
    "m5 = arima(breaches, order=c(1,1,1),\n",
    "           seasonal = list(order =c(1,1,0), period = 12),\n",
    "           xreg=data.frame(dtocs)); m5\n"
   ]
  },
  {
   "cell_type": "code",
   "execution_count": 307,
   "metadata": {},
   "outputs": [
    {
     "data": {
      "image/png": "[encoded data removed]",
      "text/plain": [
       "Plot with title \"Series  model$residuals\""
      ]
     },
     "metadata": {},
     "output_type": "display_data"
    },
    {
     "data": {
      "image/png": "[encoded data removed]",
      "text/plain": [
       "Plot with title \"Normal Q-Q Plot\""
      ]
     },
     "metadata": {},
     "output_type": "display_data"
    }
   ],
   "source": [
    "plot_diag(m5)"
   ]
  },
  {
   "cell_type": "code",
   "execution_count": 308,
   "metadata": {},
   "outputs": [
    {
     "data": {
      "text/plain": [
       "\n",
       "z test of coefficients:\n",
       "\n",
       "       Estimate Std. Error  z value  Pr(>|z|)    \n",
       "ar1    0.616967   0.109320   5.6437 1.664e-08 ***\n",
       "ma1   -0.999999   0.054477 -18.3562 < 2.2e-16 ***\n",
       "sar1  -0.672402   0.088513  -7.5966 3.040e-14 ***\n",
       "dtocs  0.523526   0.318334   1.6446    0.1001    \n",
       "---\n",
       "Signif. codes:  0 '***' 0.001 '**' 0.01 '*' 0.05 '.' 0.1 ' ' 1\n"
      ]
     },
     "metadata": {},
     "output_type": "display_data"
    }
   ],
   "source": [
    "coeftest(m5)"
   ]
  },
  {
   "cell_type": "code",
   "execution_count": 309,
   "metadata": {},
   "outputs": [
    {
     "name": "stdout",
     "output_type": "stream",
     "text": [
      "[1] \"No AO detected\"\n"
     ]
    }
   ],
   "source": [
    "detectAO(m5)"
   ]
  },
  {
   "cell_type": "code",
   "execution_count": 310,
   "metadata": {},
   "outputs": [
    {
     "name": "stdout",
     "output_type": "stream",
     "text": [
      "             [,1]\n",
      "ind     34.000000\n",
      "lambda1 -3.917797\n"
     ]
    }
   ],
   "source": [
    "detectIO(m5)"
   ]
  },
  {
   "cell_type": "code",
   "execution_count": 335,
   "metadata": {},
   "outputs": [
    {
     "data": {
      "text/plain": [
       "\n",
       "Call:\n",
       "arima(x = breaches, order = c(1, 1, 1), seasonal = list(order = c(1, 1, 0), \n",
       "    period = 12), xreg = data.frame(dtocs), io = c(34))\n",
       "\n",
       "Coefficients:\n",
       "         ar1      ma1     sar1   dtocs    IO.34\n",
       "      0.6915  -0.9770  -0.6960  0.4606  -0.4953\n",
       "s.e.  0.1069   0.0569   0.0813  0.3621   0.1481\n",
       "\n",
       "sigma^2 estimated as 0.01998:  log likelihood = 30.91,  aic = -51.83"
      ]
     },
     "metadata": {},
     "output_type": "display_data"
    }
   ],
   "source": [
    "m6 = arima(breaches, order=c(1,1,1),\n",
    "           seasonal = list(order =c(1,1,0), period = 12),\n",
    "           xreg=data.frame(dtocs), io=c(34)); m6"
   ]
  },
  {
   "cell_type": "code",
   "execution_count": 317,
   "metadata": {
    "scrolled": true
   },
   "outputs": [
    {
     "data": {
      "text/plain": [
       "\n",
       "z test of coefficients:\n",
       "\n",
       "       Estimate Std. Error  z value  Pr(>|z|)    \n",
       "ar1    0.691464   0.106945   6.4656 1.009e-10 ***\n",
       "ma1   -0.976969   0.056912 -17.1664 < 2.2e-16 ***\n",
       "sar1  -0.695990   0.081265  -8.5645 < 2.2e-16 ***\n",
       "dtocs  0.460597   0.362064   1.2721 0.2033219    \n",
       "IO.34 -0.495316   0.148146  -3.3434 0.0008275 ***\n",
       "---\n",
       "Signif. codes:  0 '***' 0.001 '**' 0.01 '*' 0.05 '.' 0.1 ' ' 1\n"
      ]
     },
     "metadata": {},
     "output_type": "display_data"
    }
   ],
   "source": [
    "coeftest(m6)"
   ]
  },
  {
   "cell_type": "code",
   "execution_count": 315,
   "metadata": {},
   "outputs": [
    {
     "data": {
      "image/png": "[encoded data removed]",
      "text/plain": [
       "Plot with title \"\""
      ]
     },
     "metadata": {},
     "output_type": "display_data"
    }
   ],
   "source": [
    "tsdiag(m6, tol=.15,gof.lag=24)"
   ]
  },
  {
   "cell_type": "code",
   "execution_count": 325,
   "metadata": {},
   "outputs": [
    {
     "data": {
      "text/html": [
       "0.938881286530103"
      ],
      "text/latex": [
       "0.938881286530103"
      ],
      "text/markdown": [
       "0.938881286530103"
      ],
      "text/plain": [
       "[1] 0.9388813"
      ]
     },
     "metadata": {},
     "output_type": "display_data"
    }
   ],
   "source": [
    "cor(fitted(m6),breaches)^2"
   ]
  },
  {
   "cell_type": "markdown",
   "metadata": {},
   "source": [
    "## Add in total admissions"
   ]
  },
  {
   "cell_type": "code",
   "execution_count": 345,
   "metadata": {
    "scrolled": true
   },
   "outputs": [
    {
     "data": {
      "text/plain": [
       "\n",
       "Call:\n",
       "arima(x = breaches, order = c(1, 1, 1), seasonal = list(order = c(1, 1, 0), \n",
       "    period = 12), xreg = data.frame(dtocs, admissions), io = c(34))\n",
       "\n",
       "Coefficients:\n",
       "         ar1      ma1     sar1   dtocs  admissions    IO.34\n",
       "      0.3765  -0.6471  -0.6801  1.0403      2.3929  -0.5447\n",
       "s.e.  0.2988   0.2591   0.0812  0.4792      0.8524   0.1409\n",
       "\n",
       "sigma^2 estimated as 0.01879:  log likelihood = 34.27,  aic = -56.54"
      ]
     },
     "metadata": {},
     "output_type": "display_data"
    }
   ],
   "source": [
    "admissions = ts(log(dtoc$total_admissions))\n",
    "\n",
    "m7 = arima(breaches, order=c(1,1,1),\n",
    "           seasonal = list(order =c(1,1,0), period = 12),\n",
    "           xreg=data.frame(dtocs, admissions), io=c(34));m7\n",
    "\n"
   ]
  },
  {
   "cell_type": "code",
   "execution_count": 343,
   "metadata": {},
   "outputs": [
    {
     "data": {
      "text/plain": [
       "\n",
       "z test of coefficients:\n",
       "\n",
       "           Estimate Std. Error z value  Pr(>|z|)    \n",
       "ar1         0.37647    0.29881  1.2599  0.207712    \n",
       "ma1        -0.64712    0.25907 -2.4978  0.012496 *  \n",
       "sar1       -0.68007    0.08118 -8.3773 < 2.2e-16 ***\n",
       "dtocs       1.04028    0.47920  2.1709  0.029940 *  \n",
       "admissions  2.39292    0.85236  2.8074  0.004994 ** \n",
       "IO.34      -0.54471    0.14093 -3.8651  0.000111 ***\n",
       "---\n",
       "Signif. codes:  0 '***' 0.001 '**' 0.01 '*' 0.05 '.' 0.1 ' ' 1\n"
      ]
     },
     "metadata": {},
     "output_type": "display_data"
    }
   ],
   "source": [
    "coeftest(m7)"
   ]
  },
  {
   "cell_type": "code",
   "execution_count": 349,
   "metadata": {},
   "outputs": [
    {
     "data": {
      "image/png": "[encoded data removed]",
      "text/plain": [
       "Plot with title \"Series  model$residuals\""
      ]
     },
     "metadata": {},
     "output_type": "display_data"
    },
    {
     "data": {
      "image/png": "[encoded data removed]",
      "text/plain": [
       "Plot with title \"Normal Q-Q Plot\""
      ]
     },
     "metadata": {},
     "output_type": "display_data"
    }
   ],
   "source": [
    "plot_diag(m7)"
   ]
  },
  {
   "cell_type": "markdown",
   "metadata": {},
   "source": [
    "## Total attendences\n",
    "\n"
   ]
  },
  {
   "cell_type": "code",
   "execution_count": 352,
   "metadata": {},
   "outputs": [
    {
     "data": {
      "text/plain": [
       "\n",
       "Call:\n",
       "arima(x = breaches, order = c(1, 1, 1), seasonal = list(order = c(1, 1, 0), \n",
       "    period = 12), xreg = data.frame(dtocs, admissions, attends), io = c(34))\n",
       "\n",
       "Coefficients:\n",
       "         ar1      ma1     sar1   dtocs  admissions  attends    IO.34\n",
       "      0.6604  -0.9902  -0.6458  0.6340      0.7619   2.7970  -0.2694\n",
       "s.e.  0.0994   0.0576   0.0940  0.3171      0.7315   0.5886   0.0856\n",
       "\n",
       "sigma^2 estimated as 0.01532:  log likelihood = 40.2,  aic = -66.39"
      ]
     },
     "metadata": {},
     "output_type": "display_data"
    }
   ],
   "source": [
    "attends = ts(log(dtoc$total_atten_t1))\n",
    "\n",
    "m8 = arima(breaches, order=c(1,1,1),\n",
    "           seasonal = list(order =c(1,1,0), period = 12),\n",
    "           xreg=data.frame(dtocs, admissions, attends), io=c(34));m8"
   ]
  },
  {
   "cell_type": "code",
   "execution_count": 353,
   "metadata": {},
   "outputs": [
    {
     "data": {
      "text/plain": [
       "\n",
       "z test of coefficients:\n",
       "\n",
       "            Estimate Std. Error  z value  Pr(>|z|)    \n",
       "ar1         0.660405   0.099418   6.6427 3.079e-11 ***\n",
       "ma1        -0.990167   0.057554 -17.2042 < 2.2e-16 ***\n",
       "sar1       -0.645807   0.093978  -6.8719 6.335e-12 ***\n",
       "dtocs       0.633985   0.317137   1.9991  0.045599 *  \n",
       "admissions  0.761884   0.731452   1.0416  0.297595    \n",
       "attends     2.796977   0.588586   4.7520 2.014e-06 ***\n",
       "IO.34      -0.269371   0.085590  -3.1472  0.001648 ** \n",
       "---\n",
       "Signif. codes:  0 '***' 0.001 '**' 0.01 '*' 0.05 '.' 0.1 ' ' 1\n"
      ]
     },
     "metadata": {},
     "output_type": "display_data"
    }
   ],
   "source": [
    "coeftest(m8)"
   ]
  },
  {
   "cell_type": "code",
   "execution_count": 354,
   "metadata": {},
   "outputs": [
    {
     "data": {
      "image/png": "[encoded data removed]",
      "text/plain": [
       "Plot with title \"Series  model$residuals\""
      ]
     },
     "metadata": {},
     "output_type": "display_data"
    },
    {
     "data": {
      "image/png": "[encoded data removed]",
      "text/plain": [
       "Plot with title \"Normal Q-Q Plot\""
      ]
     },
     "metadata": {},
     "output_type": "display_data"
    }
   ],
   "source": [
    "plot_diag(m8)"
   ]
  },
  {
   "cell_type": "code",
   "execution_count": 355,
   "metadata": {},
   "outputs": [
    {
     "data": {
      "text/html": [
       "0.951923299709844"
      ],
      "text/latex": [
       "0.951923299709844"
      ],
      "text/markdown": [
       "0.951923299709844"
      ],
      "text/plain": [
       "[1] 0.9519233"
      ]
     },
     "metadata": {},
     "output_type": "display_data"
    }
   ],
   "source": [
    "cor(fitted(m8),breaches)^2"
   ]
  },
  {
   "cell_type": "code",
   "execution_count": 366,
   "metadata": {},
   "outputs": [
    {
     "data": {
      "image/png": "[encoded data removed]",
      "text/plain": [
       "plot without title"
      ]
     },
     "metadata": {},
     "output_type": "display_data"
    }
   ],
   "source": [
    "plot(as.vector(fitted(m8)), as.vector(breaches), ylab=\"Breaches (actual)\", xlab=\" Breaches (predicted)\")"
   ]
  },
  {
   "cell_type": "code",
   "execution_count": null,
   "metadata": {
    "collapsed": true
   },
   "outputs": [],
   "source": []
  }
 ],
 "metadata": {
  "kernelspec": {
   "display_name": "R",
   "language": "R",
   "name": "ir"
  },
  "language_info": {
   "codemirror_mode": "r",
   "file_extension": ".r",
   "mimetype": "text/x-r-source",
   "name": "R",
   "pygments_lexer": "r",
   "version": "3.4.3"
  }
 },
 "nbformat": 4,
 "nbformat_minor": 2
}
